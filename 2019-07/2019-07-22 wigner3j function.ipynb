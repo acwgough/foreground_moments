{
 "cells": [
  {
   "cell_type": "markdown",
   "metadata": {},
   "source": [
    "# Trying to make wigner coefficient sum into a function"
   ]
  },
  {
   "cell_type": "code",
   "execution_count": 9,
   "metadata": {},
   "outputs": [
    {
     "name": "stdout",
     "output_type": "stream",
     "text": [
      "Populating the interactive namespace from numpy and matplotlib\n"
     ]
    }
   ],
   "source": [
    "#set up and fixed power spectra to work with (based on 2019-07-18 Synch maps spatial variation)\n",
    "\n",
    "\n",
    "#------packages-------------------\n",
    "%pylab inline\n",
    "\n",
    "import healpy as hp\n",
    "\n",
    "from pyshtools.utils import Wigner3j\n",
    "\n",
    "import time\n",
    "\n",
    "#-------constants------------------\n",
    "TCMB = 2.7255  # Kelvin\n",
    "hplanck = 6.626070150e-34  # MKS\n",
    "kboltz = 1.380649e-23  # MKS\n",
    "\n",
    "\n",
    "#-------functions------------------\n",
    "#defines the ell power law that we will use for the A_s spectrum\n",
    "def powerlaw(ell, alpha):\n",
    "    return (ell/ 80.)**alpha\n",
    "\n",
    "#defines a normal planck distribution \n",
    "def normed_cmb_thermo_units(nu):\n",
    "    X = hplanck * nu / (kboltz * TCMB)\n",
    "    eX = np.exp(X)\n",
    "    return eX * X**4 / (eX - 1.)**2\n",
    "\n",
    "#define the synchrotron SED.\n",
    "#define what frequency map we want to look at. Start with 2.3 GHz\n",
    "nu0 = 2.3e9 \n",
    "\n",
    "def normed_synch(nu, beta):\n",
    "    if beta is not np.array:\n",
    "        beta = np.array(beta)\n",
    "    return (nu/nu0)**(2.+beta[..., np.newaxis])\n",
    "\n",
    "def scale_synch(nu, beta):\n",
    "    unit = normed_synch(nu, beta) * normed_cmb_thermo_units(nu0) / normed_cmb_thermo_units(nu)\n",
    "    return unit\n",
    "\n",
    "\n",
    "#-------BB parameters (to start)--------\n",
    "A_BB = 1.7e3\n",
    "alpha_BB = -3.0\n",
    "beta_BB = -3.2\n",
    "\n",
    "#-------map paramters--------------------\n",
    "nside = 128\n",
    "Lmax = 384\n",
    "ells = np.arange(1,Lmax+1)\n",
    "\n",
    "\n",
    "#freqeuncies\n",
    "#define list of frequencies going from 10 to 300 GHz, sampling 20 points\n",
    "freqs = np.linspace(10,300,20)*1.e9\n",
    "\n",
    "#define the SED scaling\n",
    "sed_scaling = scale_synch(freqs, beta_BB)\n",
    "\n",
    "#define C_ell with a power law dependence on ell\n",
    "#pcls for Power law C_Ls\n",
    "pcls = A_BB * powerlaw(ells, alpha_BB)\n",
    "pcls[0] = 0 \n",
    "pcls[1] = 0\n",
    "\n",
    "#-----AMPLITUDE MAP----------\n",
    "sbb = hp.synfast(pcls, nside, new=True, verbose=False)\n",
    "\n",
    "#----AMPLITUDE MAP---------------------------\n",
    "#these are the amplitude cls\n",
    "check_pcls = hp.anafast(sbb)\n",
    "\n",
    "#the maps including SED at different frequencies\n",
    "newmaps = sbb * sed_scaling[..., np.newaxis]"
   ]
  },
  {
   "cell_type": "code",
   "execution_count": null,
   "metadata": {},
   "outputs": [],
   "source": []
  },
  {
   "cell_type": "code",
   "execution_count": null,
   "metadata": {},
   "outputs": [],
   "source": []
  },
  {
   "cell_type": "code",
   "execution_count": null,
   "metadata": {},
   "outputs": [],
   "source": []
  },
  {
   "cell_type": "code",
   "execution_count": null,
   "metadata": {},
   "outputs": [],
   "source": []
  },
  {
   "cell_type": "code",
   "execution_count": null,
   "metadata": {},
   "outputs": [],
   "source": []
  },
  {
   "cell_type": "code",
   "execution_count": 2,
   "metadata": {},
   "outputs": [],
   "source": [
    "def get_wigner_sum(ell_sum, ell_physical, cls_1, cls_2):\n",
    "    #ell_sum       == upper limit on sum of ell1 ell2\n",
    "    #ell_physical  == upper ell physically discernable\n",
    "    #cls_1,2       == the input c_ell for the amplitude and varition (beta) map\n",
    "    #order of input for cls_1,2 doesn't matter as is symmetric in both\n",
    "    \n",
    "    #define the relavent ells arrays\n",
    "    ells = np.arange(1, ell_physical + 1) #the physical ells to be plotted\n",
    "    ells_ext = np.arange(1, ell_sum + 1)  #the ells to be summed over\n",
    "    \n",
    "    #define an empty array to store the wigner sum in\n",
    "    wignersum = np.zeros_like(ells_ext, dtype=float)\n",
    "    \n",
    "    #begin the sum (leave off final element so the shapes work out)\n",
    "    for ell1 in ells_ext[:ell_sum-1]:\n",
    "        for ell2 in ells_ext[:ell_sum-1]:\n",
    "            w3j, ellmin, ellmax = Wigner3j(ell1, ell2, 0, 0, 0)\n",
    "            avaliable_ells = np.arange(ellmin, ellmax+1)\n",
    "\n",
    "            #this block forces all the w3j arrays to have the same size as the wignersum array\n",
    "            #cut off trailing zeros at the end of w3j\n",
    "            max_nonzero_index = ellmax - ellmin \n",
    "            w3j = w3j[:max_nonzero_index + 1]\n",
    "            \n",
    "            #make the w3j array the same shape as the wignersum array\n",
    "            if len(w3j) < len(extended_ells):\n",
    "                #if the w3j is shorter than the input ells, then pad to the end with zeros\n",
    "                padding = np.zeros(len(wignersum)-len(w3j))\n",
    "                w3j = np.append(w3j, padding)\n",
    "            else:\n",
    "                w3j=w3j\n",
    "\n",
    "            #roll stuff into position and relabel those that roll ''around'' to 0\n",
    "            w3j = np.roll(w3j, ellmin)\n",
    "            w3j[:ellmin] = np.zeros_like(w3j[:ellmin])\n",
    "\n",
    "\n",
    "            #cut to size of the moment that we're adding (the size of the ells matrix)\n",
    "            w3j = w3j[:len(extended_ells)]\n",
    "            #----------------------------------------\n",
    "\n",
    "\n",
    "            #-------maps and normalisation-----------\n",
    "            #define the normalisation factor in above equation\n",
    "            factor = (2 * ell1 + 1)*(2 * ell2 + 1)/(4*pi)\n",
    "            A = synch_cls[ell1]\n",
    "            B = beta_cls[ell2]\n",
    "            #------------------------------------------\n",
    "\n",
    "\n",
    "            #define wignersum to be the array with the sum of the squares of the wigner coefficients\n",
    "            wignersum += w3j**2 * factor * A * B\n",
    "            \n",
    "    return wignersum\n",
    "\n",
    "#do I need to return ells?\n",
    "            "
   ]
  },
  {
   "cell_type": "code",
   "execution_count": 4,
   "metadata": {},
   "outputs": [],
   "source": [
    "extended_ells = np.arange(1,800+1)\n",
    "\n",
    "synch_cls = A_BB * powerlaw(extended_ells, alpha_BB)\n",
    "synch_cls[0] = 0\n",
    "synch_cls[1] = 0\n",
    "\n",
    "beta_sigma = 1.5e-6\n",
    "\n",
    "beta_cls = beta_sigma * ones_like(extended_ells)"
   ]
  },
  {
   "cell_type": "code",
   "execution_count": 5,
   "metadata": {},
   "outputs": [
    {
     "name": "stdout",
     "output_type": "stream",
     "text": [
      "46.130499839782715\n"
     ]
    }
   ],
   "source": [
    "start = time.time()\n",
    "my_wignersum = get_wigner_sum(800,384,synch_cls,beta_cls)\n",
    "end = time.time()\n",
    "print(end-start)"
   ]
  },
  {
   "cell_type": "code",
   "execution_count": 6,
   "metadata": {},
   "outputs": [
    {
     "data": {
      "text/plain": [
       "[<matplotlib.lines.Line2D at 0x10928e0b8>]"
      ]
     },
     "execution_count": 6,
     "metadata": {},
     "output_type": "execute_result"
    },
    {
     "data": {
      "image/png": "[encoded data removed]",
      "text/plain": [
       "<Figure size 432x288 with 1 Axes>"
      ]
     },
     "metadata": {
      "needs_background": "light"
     },
     "output_type": "display_data"
    }
   ],
   "source": [
    "semilogy(my_wignersum)"
   ]
  },
  {
   "cell_type": "code",
   "execution_count": 8,
   "metadata": {},
   "outputs": [
    {
     "ename": "ValueError",
     "evalue": "negative dimensions are not allowed",
     "output_type": "error",
     "traceback": [
      "\u001b[0;31m---------------------------------------------------------------------------\u001b[0m",
      "\u001b[0;31mValueError\u001b[0m                                Traceback (most recent call last)",
      "\u001b[0;32m<ipython-input-8-3d0c37b24011>\u001b[0m in \u001b[0;36m<module>\u001b[0;34m\u001b[0m\n\u001b[1;32m      2\u001b[0m \u001b[0mbeta_cls_short\u001b[0m \u001b[0;34m=\u001b[0m \u001b[0mbeta_cls\u001b[0m\u001b[0;34m[\u001b[0m\u001b[0;34m:\u001b[0m\u001b[0;36m384\u001b[0m\u001b[0;34m]\u001b[0m\u001b[0;34m\u001b[0m\u001b[0;34m\u001b[0m\u001b[0m\n\u001b[1;32m      3\u001b[0m \u001b[0;34m\u001b[0m\u001b[0m\n\u001b[0;32m----> 4\u001b[0;31m \u001b[0mwignersum_384\u001b[0m \u001b[0;34m=\u001b[0m \u001b[0mget_wigner_sum\u001b[0m\u001b[0;34m(\u001b[0m\u001b[0;36m384\u001b[0m\u001b[0;34m,\u001b[0m\u001b[0;36m384\u001b[0m\u001b[0;34m,\u001b[0m\u001b[0msynch_cls_short\u001b[0m\u001b[0;34m,\u001b[0m \u001b[0mbeta_cls_short\u001b[0m\u001b[0;34m)\u001b[0m\u001b[0;34m\u001b[0m\u001b[0;34m\u001b[0m\u001b[0m\n\u001b[0m",
      "\u001b[0;32m<ipython-input-2-a515c6a8b1f2>\u001b[0m in \u001b[0;36mget_wigner_sum\u001b[0;34m(ell_sum, ell_physical, cls_1, cls_2)\u001b[0m\n\u001b[1;32m     26\u001b[0m             \u001b[0;32mif\u001b[0m \u001b[0mlen\u001b[0m\u001b[0;34m(\u001b[0m\u001b[0mw3j\u001b[0m\u001b[0;34m)\u001b[0m \u001b[0;34m<\u001b[0m \u001b[0mlen\u001b[0m\u001b[0;34m(\u001b[0m\u001b[0mextended_ells\u001b[0m\u001b[0;34m)\u001b[0m\u001b[0;34m:\u001b[0m\u001b[0;34m\u001b[0m\u001b[0;34m\u001b[0m\u001b[0m\n\u001b[1;32m     27\u001b[0m                 \u001b[0;31m#if the w3j is shorter than the input ells, then pad to the end with zeros\u001b[0m\u001b[0;34m\u001b[0m\u001b[0;34m\u001b[0m\u001b[0;34m\u001b[0m\u001b[0m\n\u001b[0;32m---> 28\u001b[0;31m                 \u001b[0mpadding\u001b[0m \u001b[0;34m=\u001b[0m \u001b[0mnp\u001b[0m\u001b[0;34m.\u001b[0m\u001b[0mzeros\u001b[0m\u001b[0;34m(\u001b[0m\u001b[0mlen\u001b[0m\u001b[0;34m(\u001b[0m\u001b[0mwignersum\u001b[0m\u001b[0;34m)\u001b[0m\u001b[0;34m-\u001b[0m\u001b[0mlen\u001b[0m\u001b[0;34m(\u001b[0m\u001b[0mw3j\u001b[0m\u001b[0;34m)\u001b[0m\u001b[0;34m)\u001b[0m\u001b[0;34m\u001b[0m\u001b[0;34m\u001b[0m\u001b[0m\n\u001b[0m\u001b[1;32m     29\u001b[0m                 \u001b[0mw3j\u001b[0m \u001b[0;34m=\u001b[0m \u001b[0mnp\u001b[0m\u001b[0;34m.\u001b[0m\u001b[0mappend\u001b[0m\u001b[0;34m(\u001b[0m\u001b[0mw3j\u001b[0m\u001b[0;34m,\u001b[0m \u001b[0mpadding\u001b[0m\u001b[0;34m)\u001b[0m\u001b[0;34m\u001b[0m\u001b[0;34m\u001b[0m\u001b[0m\n\u001b[1;32m     30\u001b[0m             \u001b[0;32melse\u001b[0m\u001b[0;34m:\u001b[0m\u001b[0;34m\u001b[0m\u001b[0;34m\u001b[0m\u001b[0m\n",
      "\u001b[0;31mValueError\u001b[0m: negative dimensions are not allowed"
     ]
    }
   ],
   "source": [
    "synch_cls_short = synch_cls[:384]\n",
    "beta_cls_short = beta_cls[:384]\n",
    "\n",
    "wignersum_384 = get_wigner_sum(384,384,synch_cls_short, beta_cls_short)"
   ]
  },
  {
   "cell_type": "code",
   "execution_count": null,
   "metadata": {},
   "outputs": [],
   "source": []
  },
  {
   "cell_type": "code",
   "execution_count": null,
   "metadata": {},
   "outputs": [],
   "source": []
  },
  {
   "cell_type": "code",
   "execution_count": null,
   "metadata": {},
   "outputs": [],
   "source": []
  },
  {
   "cell_type": "code",
   "execution_count": null,
   "metadata": {},
   "outputs": [],
   "source": []
  },
  {
   "cell_type": "code",
   "execution_count": null,
   "metadata": {},
   "outputs": [],
   "source": []
  }
 ],
 "metadata": {
  "kernelspec": {
   "display_name": "Python 3",
   "language": "python",
   "name": "python3"
  },
  "language_info": {
   "codemirror_mode": {
    "name": "ipython",
    "version": 3
   },
   "file_extension": ".py",
   "mimetype": "text/x-python",
   "name": "python",
   "nbconvert_exporter": "python",
   "pygments_lexer": "ipython3",
   "version": "3.7.3"
  }
 },
 "nbformat": 4,
 "nbformat_minor": 2
}
