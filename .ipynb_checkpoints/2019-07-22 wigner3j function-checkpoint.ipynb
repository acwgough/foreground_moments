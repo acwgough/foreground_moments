{
 "cells": [
  {
   "cell_type": "markdown",
   "metadata": {},
   "source": [
    "# Trying to make wigner coefficient sum into a function"
   ]
  },
  {
   "cell_type": "code",
   "execution_count": 8,
   "metadata": {},
   "outputs": [
    {
     "name": "stdout",
     "output_type": "stream",
     "text": [
      "Populating the interactive namespace from numpy and matplotlib\n"
     ]
    }
   ],
   "source": [
    "#set up and fixed power spectra to work with (based on 2019-07-18 Synch maps spatial variation)\n",
    "\n",
    "\n",
    "#------packages-------------------\n",
    "%pylab inline\n",
    "\n",
    "import healpy as hp\n",
    "\n",
    "from pyshtools.utils import Wigner3j\n",
    "\n",
    "#-------constants------------------\n",
    "TCMB = 2.7255  # Kelvin\n",
    "hplanck = 6.626070150e-34  # MKS\n",
    "kboltz = 1.380649e-23  # MKS\n",
    "\n",
    "\n",
    "#-------functions------------------\n",
    "#defines the ell power law that we will use for the A_s spectrum\n",
    "def powerlaw(ell, alpha):\n",
    "    return (ell/ 80.)**alpha\n",
    "\n",
    "#defines a normal planck distribution \n",
    "def normed_cmb_thermo_units(nu):\n",
    "    X = hplanck * nu / (kboltz * TCMB)\n",
    "    eX = np.exp(X)\n",
    "    return eX * X**4 / (eX - 1.)**2\n",
    "\n",
    "#define the synchrotron SED.\n",
    "#define what frequency map we want to look at. Start with 2.3 GHz\n",
    "nu0 = 2.3e9 \n",
    "\n",
    "def normed_synch(nu, beta):\n",
    "    if beta is not np.array:\n",
    "        beta = np.array(beta)\n",
    "    return (nu/nu0)**(2.+beta[..., np.newaxis])\n",
    "\n",
    "def scale_synch(nu, beta):\n",
    "    unit = normed_synch(nu, beta) * normed_cmb_thermo_units(nu0) / normed_cmb_thermo_units(nu)\n",
    "    return unit\n",
    "\n",
    "\n",
    "#-------BB parameters (to start)--------\n",
    "A_BB = 1.7e3\n",
    "alpha_BB = -3.0\n",
    "beta_BB = -3.2\n",
    "\n",
    "#-------map paramters--------------------\n",
    "nside = 128\n",
    "Lmax = 384\n",
    "ells = np.arange(1,Lmax+1)"
   ]
  },
  {
   "cell_type": "code",
   "execution_count": null,
   "metadata": {},
   "outputs": [],
   "source": []
  },
  {
   "cell_type": "code",
   "execution_count": null,
   "metadata": {},
   "outputs": [],
   "source": []
  },
  {
   "cell_type": "code",
   "execution_count": null,
   "metadata": {},
   "outputs": [],
   "source": []
  },
  {
   "cell_type": "code",
   "execution_count": null,
   "metadata": {},
   "outputs": [],
   "source": []
  },
  {
   "cell_type": "code",
   "execution_count": null,
   "metadata": {},
   "outputs": [],
   "source": []
  },
  {
   "cell_type": "code",
   "execution_count": null,
   "metadata": {},
   "outputs": [],
   "source": [
    "def get_wigner_sum(ell_sum, ell_physical, cls_1, cls_2):\n",
    "    #ell_sum == upper limit on sum of ell1 ell2\n",
    "    #ell_physical == upper ell physically discernable\n",
    "    #cls_1,2 == the input c_ell for the amplitude and va"
   ]
  },
  {
   "cell_type": "code",
   "execution_count": null,
   "metadata": {},
   "outputs": [],
   "source": []
  }
 ],
 "metadata": {
  "kernelspec": {
   "display_name": "Python 3",
   "language": "python",
   "name": "python3"
  },
  "language_info": {
   "codemirror_mode": {
    "name": "ipython",
    "version": 3
   },
   "file_extension": ".py",
   "mimetype": "text/x-python",
   "name": "python",
   "nbconvert_exporter": "python",
   "pygments_lexer": "ipython3",
   "version": "3.7.3"
  }
 },
 "nbformat": 4,
 "nbformat_minor": 2
}
