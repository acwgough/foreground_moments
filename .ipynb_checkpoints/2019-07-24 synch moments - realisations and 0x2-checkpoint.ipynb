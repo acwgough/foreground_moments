{
 "cells": [
  {
   "cell_type": "code",
   "execution_count": 2,
   "metadata": {},
   "outputs": [],
   "source": [
    "\"\"\"\n",
    "Notation used in this notebook\n",
    "\n",
    "ells            - array of ells to Lmax\n",
    "pcls            - C_ells defined through a power law\n",
    "check_cls       - C_ells from anafast on a map\n",
    "\n",
    "sbb             - amplitude map/template map\n",
    "beta_map        - map of the varying beta\n",
    "\n",
    "sed_scaling_<x> - scaled_synch function on frequencies. nu^beta_map\n",
    "\n",
    "newmaps_<x>     - template map * sed_scaling map. Series of freq maps\n",
    "\n",
    "\"\"\";"
   ]
  },
  {
   "cell_type": "code",
   "execution_count": 56,
   "metadata": {},
   "outputs": [
    {
     "name": "stdout",
     "output_type": "stream",
     "text": [
      "The autoreload extension is already loaded. To reload it, use:\n",
      "  %reload_ext autoreload\n"
     ]
    }
   ],
   "source": [
    "%load_ext autoreload\n",
    "# to make modification in .py file type %autoreload"
   ]
  },
  {
   "cell_type": "code",
   "execution_count": 49,
   "metadata": {},
   "outputs": [
    {
     "name": "stdout",
     "output_type": "stream",
     "text": [
      "Populating the interactive namespace from numpy and matplotlib\n"
     ]
    }
   ],
   "source": [
    "#trying to consolidate the work so far into a cohesive document and notation. Pushing definitions into separate .py file\n",
    "\n",
    "#------packages-------------------\n",
    "%pylab inline\n",
    "import time\n",
    "import healpy as hp\n",
    "import foreground_functions as ff\n",
    "\n",
    "#-------BB parameters (to start)--------\n",
    "A_BB = 1.7e3\n",
    "alpha_BB = -3.0\n",
    "beta_BB = -3.2\n",
    "beta_sigma = 1.5e-6\n",
    "nu0 = 2.3e9\n",
    "\n",
    "#-------map paramters--------------------\n",
    "nside = 128\n",
    "Lmax = 384\n",
    "ell_sum = 384\n",
    "ells = np.arange(1,Lmax+1)\n",
    "extended_ells = np.arange(1,ell_sum+1)\n",
    "\n",
    "#define list of frequencies going from 10 to 300 GHz, sampling 20 points\n",
    "freqs = np.linspace(10,300,20)*1.e9"
   ]
  },
  {
   "cell_type": "code",
   "execution_count": 50,
   "metadata": {},
   "outputs": [],
   "source": [
    "%autoreload"
   ]
  },
  {
   "cell_type": "code",
   "execution_count": 16,
   "metadata": {},
   "outputs": [
    {
     "data": {
      "text/plain": [
       "(20, 196608)"
      ]
     },
     "execution_count": 16,
     "metadata": {},
     "output_type": "execute_result"
    }
   ],
   "source": [
    "maps = ff.generate_map(384, A_BB, alpha_BB, beta_sigma, freqs, nu0)\n",
    "maps.shape"
   ]
  },
  {
   "cell_type": "code",
   "execution_count": 19,
   "metadata": {},
   "outputs": [
    {
     "name": "stdout",
     "output_type": "stream",
     "text": [
      "7.001495122909546\n"
     ]
    }
   ],
   "source": [
    "n=10\n",
    "start=time.time()\n",
    "instance = np.zeros((n,len(ells)))\n",
    "for i in range(n):\n",
    "    maps = maps = ff.generate_map(384, A_BB, alpha_BB, beta_sigma, freqs, nu0)\n",
    "    instance[i] = hp.anafast(maps[10])\n",
    "end=time.time()\n",
    "print(end-start)"
   ]
  },
  {
   "cell_type": "code",
   "execution_count": 57,
   "metadata": {},
   "outputs": [
    {
     "ename": "NameError",
     "evalue": "name 'pi' is not defined",
     "output_type": "error",
     "traceback": [
      "\u001b[0;31m---------------------------------------------------------------------------\u001b[0m",
      "\u001b[0;31mNameError\u001b[0m                                 Traceback (most recent call last)",
      "\u001b[0;32m<ipython-input-57-b7bf363a9417>\u001b[0m in \u001b[0;36m<module>\u001b[0;34m\u001b[0m\n\u001b[1;32m     23\u001b[0m \u001b[0mbeta_cls\u001b[0m \u001b[0;34m=\u001b[0m \u001b[0mbeta_sigma\u001b[0m \u001b[0;34m*\u001b[0m \u001b[0mones_like\u001b[0m\u001b[0;34m(\u001b[0m\u001b[0mextended_ells\u001b[0m\u001b[0;34m)\u001b[0m\u001b[0;34m\u001b[0m\u001b[0;34m\u001b[0m\u001b[0m\n\u001b[1;32m     24\u001b[0m \u001b[0;34m\u001b[0m\u001b[0m\n\u001b[0;32m---> 25\u001b[0;31m \u001b[0mwignersum\u001b[0m \u001b[0;34m=\u001b[0m \u001b[0mff\u001b[0m\u001b[0;34m.\u001b[0m\u001b[0mget_wigner_sum\u001b[0m\u001b[0;34m(\u001b[0m\u001b[0mell_sum\u001b[0m\u001b[0;34m,\u001b[0m \u001b[0msynch_cls\u001b[0m\u001b[0;34m,\u001b[0m \u001b[0mbeta_cls\u001b[0m\u001b[0;34m)\u001b[0m\u001b[0;34m\u001b[0m\u001b[0;34m\u001b[0m\u001b[0m\n\u001b[0m\u001b[1;32m     26\u001b[0m \u001b[0;34m\u001b[0m\u001b[0m\n\u001b[1;32m     27\u001b[0m \u001b[0mmoment1x1\u001b[0m \u001b[0;34m=\u001b[0m \u001b[0mnp\u001b[0m\u001b[0;34m.\u001b[0m\u001b[0mzeros\u001b[0m\u001b[0;34m(\u001b[0m\u001b[0;34m(\u001b[0m\u001b[0mlen\u001b[0m\u001b[0;34m(\u001b[0m\u001b[0mfreqs\u001b[0m\u001b[0;34m)\u001b[0m\u001b[0;34m,\u001b[0m\u001b[0mlen\u001b[0m\u001b[0;34m(\u001b[0m\u001b[0mells\u001b[0m\u001b[0;34m)\u001b[0m\u001b[0;34m)\u001b[0m\u001b[0;34m)\u001b[0m\u001b[0;34m\u001b[0m\u001b[0;34m\u001b[0m\u001b[0m\n",
      "\u001b[0;32m~/Documents/foreground_moments/foreground_functions.py\u001b[0m in \u001b[0;36mget_wigner_sum\u001b[0;34m(ell_sum, cls_1, cls_2)\u001b[0m\n\u001b[1;32m    105\u001b[0m \u001b[0;34m\u001b[0m\u001b[0m\n\u001b[1;32m    106\u001b[0m             \u001b[0;31m#-------maps and normalisation-----------\u001b[0m\u001b[0;34m\u001b[0m\u001b[0;34m\u001b[0m\u001b[0;34m\u001b[0m\u001b[0m\n\u001b[0;32m--> 107\u001b[0;31m             \u001b[0;31m#define the normalisation factor in above equation\u001b[0m\u001b[0;34m\u001b[0m\u001b[0;34m\u001b[0m\u001b[0;34m\u001b[0m\u001b[0m\n\u001b[0m\u001b[1;32m    108\u001b[0m             \u001b[0mfactor\u001b[0m \u001b[0;34m=\u001b[0m \u001b[0;34m(\u001b[0m\u001b[0;36m2\u001b[0m \u001b[0;34m*\u001b[0m \u001b[0mell1\u001b[0m \u001b[0;34m+\u001b[0m \u001b[0;36m1\u001b[0m\u001b[0;34m)\u001b[0m\u001b[0;34m*\u001b[0m\u001b[0;34m(\u001b[0m\u001b[0;36m2\u001b[0m \u001b[0;34m*\u001b[0m \u001b[0mell2\u001b[0m \u001b[0;34m+\u001b[0m \u001b[0;36m1\u001b[0m\u001b[0;34m)\u001b[0m\u001b[0;34m/\u001b[0m\u001b[0;34m(\u001b[0m\u001b[0;36m4\u001b[0m\u001b[0;34m*\u001b[0m\u001b[0mpi\u001b[0m\u001b[0;34m)\u001b[0m\u001b[0;34m\u001b[0m\u001b[0;34m\u001b[0m\u001b[0m\n\u001b[1;32m    109\u001b[0m             \u001b[0mA\u001b[0m \u001b[0;34m=\u001b[0m \u001b[0mcls_1\u001b[0m\u001b[0;34m[\u001b[0m\u001b[0mell1\u001b[0m\u001b[0;34m]\u001b[0m\u001b[0;34m\u001b[0m\u001b[0;34m\u001b[0m\u001b[0m\n",
      "\u001b[0;31mNameError\u001b[0m: name 'pi' is not defined"
     ]
    }
   ],
   "source": [
    "start=time.time()\n",
    "mean_ps = np.mean(instance,0)\n",
    "\n",
    "pcls = A_BB * ff.powerlaw(ells, alpha_BB)\n",
    "pcls[0] = 0\n",
    "sed_scaling = ff.scale_synch(freqs, nu0, beta_BB)\n",
    "\n",
    "bcls = beta_sigma * np.ones_like(ells)  \n",
    "beta_map = hp.synfast(bcls, nside, new=True, verbose=False)\n",
    "beta_map -= (np.mean(beta_map) + 3.2)\n",
    "\n",
    "#-----Define the moments----------------------------------\n",
    "#-----0x0 moment------------------------------------------\n",
    "#define a matrix to hold all the 0x0 moments at diff freqs\n",
    "moment0x0 = np.zeros((len(freqs),len(ells)))\n",
    "for i in range(len(moment0x0[:,i])):\n",
    "    moment0x0[i] = pcls * sed_scaling[i]**2\n",
    "    \n",
    "#-----1x1 moment------------------------------------------\n",
    "\n",
    "synch_cls = A_BB * ff.powerlaw(extended_ells, alpha_BB)\n",
    "synch_cls[0] = 0\n",
    "beta_cls = beta_sigma * ones_like(extended_ells)\n",
    "\n",
    "wignersum = ff.get_wigner_sum(ell_sum, synch_cls, beta_cls)\n",
    "\n",
    "moment1x1 = np.zeros((len(freqs),len(ells)))\n",
    "for i in range(len(moment1x1[:,i])):\n",
    "    moment1x1[i] =  log(freqs[i]/nu0)**2 * sed_scaling[i]**2 * wignersum[:Lmax] \n",
    "\n",
    "\n",
    "end=time.time()\n",
    "print(end-start)"
   ]
  },
  {
   "cell_type": "code",
   "execution_count": 28,
   "metadata": {},
   "outputs": [
    {
     "data": {
      "text/plain": [
       "Text(0.5, 1.0, 'fluctuation due to instance of map sampling for n=10 maps')"
      ]
     },
     "execution_count": 28,
     "metadata": {},
     "output_type": "execute_result"
    },
    {
     "data": {
      "image/png": "[encoded data removed]",
      "text/plain": [
       "<Figure size 936x648 with 1 Axes>"
      ]
     },
     "metadata": {
      "needs_background": "light"
     },
     "output_type": "display_data"
    }
   ],
   "source": [
    "figure(figsize=(13,9))\n",
    "# for i in range(n):\n",
    "#     semilogy(ells, instance[i], 'k', alpha=0.5, lw=0.2)\n",
    "semilogy(ells, pcls)\n",
    "semilogy(ells, mean_ps, 'r', label='mean power spectrum')\n",
    "xlim(2,400)\n",
    "ylim(1e-9,1e-5)\n",
    "title('fluctuation due to instance of map sampling for n=' + str(n) +' maps')"
   ]
  },
  {
   "cell_type": "code",
   "execution_count": 24,
   "metadata": {},
   "outputs": [],
   "source": []
  },
  {
   "cell_type": "code",
   "execution_count": 9,
   "metadata": {},
   "outputs": [
    {
     "data": {
      "text/plain": [
       "[<matplotlib.lines.Line2D at 0x15168cdda0>]"
      ]
     },
     "execution_count": 9,
     "metadata": {},
     "output_type": "execute_result"
    },
    {
     "data": {
      "image/png": "[encoded data removed]",
      "text/plain": [
       "<Figure size 432x288 with 1 Axes>"
      ]
     },
     "metadata": {
      "needs_background": "light"
     },
     "output_type": "display_data"
    }
   ],
   "source": [
    "semilogy(ells, pcls)"
   ]
  },
  {
   "cell_type": "code",
   "execution_count": null,
   "metadata": {},
   "outputs": [],
   "source": []
  }
 ],
 "metadata": {
  "kernelspec": {
   "display_name": "Python 3",
   "language": "python",
   "name": "python3"
  },
  "language_info": {
   "codemirror_mode": {
    "name": "ipython",
    "version": 3
   },
   "file_extension": ".py",
   "mimetype": "text/x-python",
   "name": "python",
   "nbconvert_exporter": "python",
   "pygments_lexer": "ipython3",
   "version": "3.7.3"
  }
 },
 "nbformat": 4,
 "nbformat_minor": 2
}
