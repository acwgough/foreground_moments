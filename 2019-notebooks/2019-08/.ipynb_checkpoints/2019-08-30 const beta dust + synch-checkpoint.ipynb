{
 "cells": [
  {
   "cell_type": "markdown",
   "metadata": {},
   "source": [
    "# Goal: fit both synch and dust in the case where $\\beta = \\rm const.$ (e.g. the 0x0 moment)"
   ]
  },
  {
   "cell_type": "code",
   "execution_count": 1,
   "metadata": {},
   "outputs": [],
   "source": [
    "%load_ext autoreload\n",
    "%load_ext line_profiler"
   ]
  },
  {
   "cell_type": "code",
   "execution_count": 2,
   "metadata": {},
   "outputs": [
    {
     "name": "stdout",
     "output_type": "stream",
     "text": [
      "Populating the interactive namespace from numpy and matplotlib\n"
     ]
    }
   ],
   "source": [
    "import sys\n",
    "sys.path.append('../../') #takes us to the directory named foreground_functions that housed the foreground_function.py \n",
    "#and the w3j.npy files\n",
    "\n",
    "#------packages-------------------\n",
    "%pylab inline\n",
    "import time\n",
    "import healpy as hp\n",
    "import matplotlib.pyplot as plt\n",
    "import foreground_functions as ff\n",
    "from scipy.optimize import curve_fit, minimize"
   ]
  },
  {
   "cell_type": "code",
   "execution_count": 3,
   "metadata": {},
   "outputs": [],
   "source": [
    "#the D_ells of the CMB with r=0.01\n",
    "camb_lens_r1 = loadtxt('../../power_spectra/camb_lens_r1.dat').T\n",
    "camb_lens_nobb = loadtxt('../../power_spectra/camb_lens_nobb.dat').T\n",
    "primo_bb = camb_lens_r1[3]\n",
    "lens_bb = camb_lens_nobb[3]\n",
    "r = 0.01\n",
    "bb = r * primo_bb + lens_bb"
   ]
  },
  {
   "cell_type": "code",
   "execution_count": 4,
   "metadata": {},
   "outputs": [],
   "source": [
    "#the parameters chosen here (except gamma) are from the BICEP 2018 paper. The alphas differ by addition of 2, as we've\n",
    "#calculated the C_ells, while the BICEP paper models the D_ells. The amplitudes also have had to be scaled to pivot\n",
    "#frequency of 95 GHz so differ by a factor (95/original pivot)^beta\n",
    "params_s = [1.23e-2, -2.6, -3.1, -2.5]\n",
    "A_s, alpha_s, beta_s, gamma_s = params_s\n",
    "params_d = [5.63e-1, -2.4, 1.6, -3.5] \n",
    "A_d, alpha_d, beta_d, gamma_d = params_d\n",
    "\n",
    "params = params_s + params_d\n",
    "\n",
    "nside=128\n",
    "ells = np.arange(384)\n",
    "freqs = np.linspace(30, 300, 10)*1.e9"
   ]
  },
  {
   "cell_type": "code",
   "execution_count": 5,
   "metadata": {},
   "outputs": [],
   "source": [
    "%autoreload"
   ]
  },
  {
   "cell_type": "code",
   "execution_count": 6,
   "metadata": {},
   "outputs": [],
   "source": [
    "fg_const = ff.auto0x0_fg(ells, freqs, params)"
   ]
  },
  {
   "cell_type": "code",
   "execution_count": null,
   "metadata": {},
   "outputs": [],
   "source": []
  },
  {
   "cell_type": "code",
   "execution_count": null,
   "metadata": {},
   "outputs": [],
   "source": []
  },
  {
   "cell_type": "code",
   "execution_count": null,
   "metadata": {},
   "outputs": [],
   "source": []
  },
  {
   "cell_type": "code",
   "execution_count": null,
   "metadata": {},
   "outputs": [],
   "source": []
  },
  {
   "cell_type": "code",
   "execution_count": null,
   "metadata": {},
   "outputs": [],
   "source": []
  },
  {
   "cell_type": "code",
   "execution_count": null,
   "metadata": {},
   "outputs": [],
   "source": []
  },
  {
   "cell_type": "code",
   "execution_count": null,
   "metadata": {},
   "outputs": [],
   "source": []
  },
  {
   "cell_type": "code",
   "execution_count": null,
   "metadata": {},
   "outputs": [],
   "source": []
  },
  {
   "cell_type": "code",
   "execution_count": null,
   "metadata": {},
   "outputs": [],
   "source": []
  }
 ],
 "metadata": {
  "kernelspec": {
   "display_name": "Python 3",
   "language": "python",
   "name": "python3"
  },
  "language_info": {
   "codemirror_mode": {
    "name": "ipython",
    "version": 3
   },
   "file_extension": ".py",
   "mimetype": "text/x-python",
   "name": "python",
   "nbconvert_exporter": "python",
   "pygments_lexer": "ipython3",
   "version": "3.7.3"
  }
 },
 "nbformat": 4,
 "nbformat_minor": 2
}
