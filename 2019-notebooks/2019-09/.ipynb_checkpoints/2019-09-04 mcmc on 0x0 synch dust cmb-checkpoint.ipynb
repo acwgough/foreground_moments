{
 "cells": [
  {
   "cell_type": "code",
   "execution_count": 1,
   "metadata": {},
   "outputs": [],
   "source": [
    "%load_ext autoreload\n",
    "%load_ext line_profiler"
   ]
  },
  {
   "cell_type": "code",
   "execution_count": 2,
   "metadata": {},
   "outputs": [
    {
     "name": "stdout",
     "output_type": "stream",
     "text": [
      "Populating the interactive namespace from numpy and matplotlib\n"
     ]
    }
   ],
   "source": [
    "import sys\n",
    "sys.path.append('../../') #takes us to the directory named foreground_functions that housed the foreground_function.py \n",
    "#and the w3j.npy files\n",
    "\n",
    "#------packages-------------------\n",
    "%pylab inline\n",
    "import time\n",
    "import healpy as hp\n",
    "import matplotlib.pyplot as plt\n",
    "import foreground_functions as ff\n",
    "from scipy.optimize import curve_fit, minimize\n",
    "import emcee\n",
    "import corner"
   ]
  },
  {
   "cell_type": "markdown",
   "metadata": {},
   "source": [
    "# Foreground parameters"
   ]
  },
  {
   "cell_type": "code",
   "execution_count": 5,
   "metadata": {},
   "outputs": [],
   "source": [
    "#the parameters chosen here (except gamma) are from the BICEP 2018 paper. The alphas differ by addition of 2, as we've\n",
    "#calculated the C_ells, while the BICEP paper models the D_ells. The amplitudes also have had to be scaled to pivot\n",
    "#frequency of 95 GHz so differ by a factor (95/original pivot)^beta\n",
    "A_s_BICEP = 1.0 #micro K^2\n",
    "A_d_BICEP = 4.6 #micro K^2\n",
    "alpha_s_BICEP = -0.6\n",
    "alpha_d_BICEP = -0.4\n",
    "\n",
    "\n",
    "alpha_s = alpha_s_BICEP - 2 #convert from D_ells to C_ells (ish)\n",
    "beta_s = -3.1\n",
    "gamma_s = 0 #-2.6 is the SO value for this\n",
    "A_s = A_s_BICEP * (ff.scale_synch(95e9, beta_s)/ff.scale_synch(23e9, beta_s))**2 * 2*pi/(80*81) # scale to new frequency and convert from D_ells to C_ells\n",
    "A_s = A_s[0] #make it stop being an array\n",
    "\n",
    "alpha_d = alpha_s_BICEP - 2 #convert from D_ells to C_ells (ish)\n",
    "beta_d = 1.6\n",
    "gamma_d = 0 #-3.5\n",
    "A_d = A_d_BICEP * (ff.scale_synch(95e9, beta_d)/ff.scale_synch(353e9, beta_d))**2 * 2*pi/(80*81) # scale to new frequency and convert from D_ells to C_ells\n",
    "A_d = A_d[0] #make it stop being an array\n",
    "\n",
    "\n",
    "\n",
    "params_s = [A_s, alpha_s, beta_s, gamma_s]\n",
    "params_d = [A_d, alpha_d, beta_d, gamma_d] \n",
    "params = params_s + params_d\n",
    "\n",
    "nside=128\n",
    "ells = np.arange(384)\n",
    "my_freqs = np.linspace(30,300,10)*1.e9 \n",
    "SO_freqs = np.array([27, 39, 93, 145, 225, 280])*1e9"
   ]
  },
  {
   "cell_type": "markdown",
   "metadata": {},
   "source": [
    "# CMB data"
   ]
  },
  {
   "cell_type": "code",
   "execution_count": null,
   "metadata": {},
   "outputs": [],
   "source": [
    "#the D_ells of the CMB with r=0.01\n",
    "camb_lens_r1 = loadtxt('../../power_spectra/camb_lens_r1.dat').T\n",
    "camb_lens_nobb = loadtxt('../../power_spectra/camb_lens_nobb.dat').T\n",
    "primo_bb = camb_lens_r1[3]\n",
    "lens_bb = camb_lens_nobb[3]\n",
    "r = 0.01\n",
    "bb_001 = (r * primo_bb + lens_bb)[:384]"
   ]
  }
 ],
 "metadata": {
  "kernelspec": {
   "display_name": "Python 3",
   "language": "python",
   "name": "python3"
  },
  "language_info": {
   "codemirror_mode": {
    "name": "ipython",
    "version": 3
   },
   "file_extension": ".py",
   "mimetype": "text/x-python",
   "name": "python",
   "nbconvert_exporter": "python",
   "pygments_lexer": "ipython3",
   "version": "3.7.3"
  }
 },
 "nbformat": 4,
 "nbformat_minor": 2
}
