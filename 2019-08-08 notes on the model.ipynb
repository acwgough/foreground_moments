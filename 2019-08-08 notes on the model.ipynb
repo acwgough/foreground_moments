{
 "cells": [
  {
   "cell_type": "code",
   "execution_count": 2,
   "metadata": {},
   "outputs": [],
   "source": [
    "%load_ext autoreload\n",
    "# to make modification in .py file type %autoreload\n",
    "\n",
    "%load_ext line_profiler\n",
    "#for finding out how long code takes to run\n",
    "#an example of how to get diagnostics on functions\n",
    "#%lprun -f ff.generate_map_full ff.generate_map_full(384, A_BB, alpha_BB, beta_sigma, freqs, nu0)"
   ]
  },
  {
   "cell_type": "code",
   "execution_count": 3,
   "metadata": {},
   "outputs": [
    {
     "name": "stdout",
     "output_type": "stream",
     "text": [
      "Populating the interactive namespace from numpy and matplotlib\n"
     ]
    }
   ],
   "source": [
    "#trying to consolidate the work so far into a cohesive document and notation. Pushing definitions into \n",
    "#separate .py file\n",
    "\n",
    "#------packages-------------------\n",
    "%pylab inline\n",
    "import time\n",
    "import healpy as hp\n",
    "import matplotlib.pyplot as plt\n",
    "import foreground_functions as ff\n",
    "from scipy.optimize import curve_fit, minimize\n",
    "\n",
    "\n"
   ]
  },
  {
   "cell_type": "code",
   "execution_count": 4,
   "metadata": {},
   "outputs": [],
   "source": [
    "%autoreload"
   ]
  },
  {
   "cell_type": "markdown",
   "metadata": {},
   "source": [
    "# Parameters used for generating map"
   ]
  },
  {
   "cell_type": "code",
   "execution_count": 5,
   "metadata": {},
   "outputs": [],
   "source": [
    "nside = 128\n",
    "A = 1.7e3\n",
    "alpha = -3.0\n",
    "beta = -3.2\n",
    "gamma = -2.5\n",
    "ells = np.arange(3*nside)\n",
    "freqs = np.linspace(30, 300, 5)*1.e9"
   ]
  },
  {
   "cell_type": "markdown",
   "metadata": {},
   "source": [
    "# Generate model using input parameters for comparison"
   ]
  },
  {
   "cell_type": "code",
   "execution_count": 7,
   "metadata": {},
   "outputs": [
    {
     "name": "stdout",
     "output_type": "stream",
     "text": [
      "1.3526930809020996\n"
     ]
    }
   ],
   "source": [
    "start=time.time()\n",
    "model_true = ff.model(freqs, A, alpha, beta, gamma)\n",
    "print(time.time()-start)"
   ]
  },
  {
   "cell_type": "markdown",
   "metadata": {},
   "source": [
    "# Want to get 1d fits working first\n",
    "cannot fit for $\\beta$ in this case as it is completely degenerate with amplitude.\n",
    "\n",
    "Model (auto spectrum at freqency $\\nu$) - up to normalisation of the SED to the Planck function. Note that $A_\\beta$ is totally specified by $\\gamma$ to fix the standard deviation of the betamap.\n",
    "\n",
    "$$\n",
    "C_\\ell(0\\times0) = \\left(\\frac{\\nu}{\\nu_0}\\right)^{2\\beta} \\times A \\left(\\frac{\\ell}{80}\\right)^\\alpha \n",
    "$$\n",
    "\n",
    "$$\n",
    "C_\\ell(1\\times1) = \\left(\\frac{\\nu}{\\nu_0}\\right)^{2\\beta}\\log^2\\left(\\frac{\\nu}{\\nu_0}\\right) \\times \\sum_{\\ell_1\\ell_2}\\frac{(2\\ell_1+1)(2\\ell_2+1)}{4\\pi} \\begin{pmatrix}\\ell & \\ell_1 & \\ell_2 \\\\ 0 & 0 & 0\\end{pmatrix}^2 A \\left(\\frac{\\ell_1}{80}\\right)^\\alpha A_\\beta \\left(\\frac{\\ell_2}{80}\\right)^\\gamma\n",
    "$$\n",
    "\n",
    "$$\n",
    "\\begin{align}\n",
    "C_\\ell(0\\times2) &= \\left(\\frac{\\nu}{\\nu_0}\\right)^{2\\beta}\\log^2\\left(\\frac{\\nu}{\\nu_0}\\right) A \\left(\\frac{\\ell}{80}\\right)^\\alpha \\times \\sum_{\\ell_1} \\frac{(2\\ell_1+1)}{4\\pi} A_\\beta \\left(\\frac{\\ell_1}{80}\\right)^\\gamma \\\\\n",
    "&= \\left(\\frac{\\nu}{\\nu_0}\\right)^{2\\beta}\\log^2\\left(\\frac{\\nu}{\\nu_0}\\right)A \\left(\\frac{\\ell}{80}\\right)^\\alpha  \\times \\frac{A_\\beta}{4\\pi \\ 80^\\gamma} \\sum_{\\ell_1}(2\\ell_1+1) \\ell_1^\\gamma \\\\\n",
    "&= \\left(\\frac{\\nu}{\\nu_0}\\right)^{2\\beta}\\log^2\\left(\\frac{\\nu}{\\nu_0}\\right) A \\left(\\frac{\\ell}{80}\\right)^\\alpha \\times \\frac{A_\\beta}{4\\pi \\ 80^\\gamma} \\times \\left[ 2\\zeta(-\\gamma-1)+\\zeta(-\\gamma)-3 \\right]\n",
    "\\end{align}\n",
    "$$"
   ]
  },
  {
   "cell_type": "markdown",
   "metadata": {},
   "source": [
    "So then, factoring out the appropriate factors, we can write the full model to first order as\n",
    "\n",
    "$$\n",
    "C_\\ell(0\\times0+1\\times1+0\\times2) = A \\cdot \\mathrm{SED}^2(\\nu,\\beta) \\left\\{  \\left(\\frac{\\ell}{80}\\right)^\\alpha  + \\frac{A_\\beta(\\gamma)}{4\\pi \\ 80^\\gamma} \\log^2\\left(\\frac{\\nu}{\\nu_0}\\right)\\left[  \\ell^\\alpha(2\\zeta(-\\gamma-1) + \\zeta(-\\gamma)-3) + \\frac{1}{80^\\alpha}\\sum_{\\ell_1\\ell_2}(2\\ell_1+1)(2\\ell_2+1) W_{\\ell\\ell_1\\ell_2}^2 \\ell_1^\\alpha  \\ell_2^\\gamma     \\right]     \\right\\}\n",
    "$$"
   ]
  },
  {
   "cell_type": "code",
   "execution_count": 8,
   "metadata": {},
   "outputs": [],
   "source": [
    "data = ff.PS_data(freqs, A, alpha, beta, gamma)"
   ]
  },
  {
   "cell_type": "code",
   "execution_count": null,
   "metadata": {},
   "outputs": [],
   "source": []
  },
  {
   "cell_type": "code",
   "execution_count": null,
   "metadata": {},
   "outputs": [],
   "source": []
  },
  {
   "cell_type": "code",
   "execution_count": null,
   "metadata": {},
   "outputs": [],
   "source": []
  }
 ],
 "metadata": {
  "kernelspec": {
   "display_name": "Python 3",
   "language": "python",
   "name": "python3"
  },
  "language_info": {
   "codemirror_mode": {
    "name": "ipython",
    "version": 3
   },
   "file_extension": ".py",
   "mimetype": "text/x-python",
   "name": "python",
   "nbconvert_exporter": "python",
   "pygments_lexer": "ipython3",
   "version": "3.7.3"
  }
 },
 "nbformat": 4,
 "nbformat_minor": 2
}
