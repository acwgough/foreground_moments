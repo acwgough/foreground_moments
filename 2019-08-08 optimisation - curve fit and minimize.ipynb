{
 "cells": [
  {
   "cell_type": "code",
   "execution_count": 1,
   "metadata": {},
   "outputs": [],
   "source": [
    "%load_ext autoreload\n",
    "# to make modification in .py file type %autoreload\n",
    "\n",
    "%load_ext line_profiler\n",
    "#for finding out how long code takes to run\n",
    "#an example of how to get diagnostics on functions\n",
    "#%lprun -f ff.generate_map_full ff.generate_map_full(384, A_BB, alpha_BB, beta_sigma, freqs, nu0)"
   ]
  },
  {
   "cell_type": "code",
   "execution_count": 2,
   "metadata": {},
   "outputs": [
    {
     "name": "stdout",
     "output_type": "stream",
     "text": [
      "Populating the interactive namespace from numpy and matplotlib\n"
     ]
    }
   ],
   "source": [
    "#trying to consolidate the work so far into a cohesive document and notation. Pushing definitions into \n",
    "#separate .py file\n",
    "\n",
    "#------packages-------------------\n",
    "%pylab inline\n",
    "import time\n",
    "import healpy as hp\n",
    "import matplotlib.pyplot as plt\n",
    "import foreground_functions as ff\n",
    "from scipy.optimize import curve_fit, minimize\n",
    "\n",
    "\n"
   ]
  },
  {
   "cell_type": "code",
   "execution_count": 3,
   "metadata": {},
   "outputs": [],
   "source": [
    "%autoreload"
   ]
  },
  {
   "cell_type": "markdown",
   "metadata": {},
   "source": [
    "# Parameters used for generating map"
   ]
  },
  {
   "cell_type": "code",
   "execution_count": 81,
   "metadata": {},
   "outputs": [],
   "source": [
    "nside = 128\n",
    "A = 1.7e3\n",
    "alpha = -3.0\n",
    "beta = -3.2\n",
    "gamma = -2.5\n",
    "ells = np.arange(3*nside)\n",
    "freqs = np.linspace(30, 300, 5)*1.e9"
   ]
  },
  {
   "cell_type": "markdown",
   "metadata": {},
   "source": [
    "# Generate model using input parameters for comparison"
   ]
  },
  {
   "cell_type": "code",
   "execution_count": 82,
   "metadata": {},
   "outputs": [
    {
     "name": "stdout",
     "output_type": "stream",
     "text": [
      "1.219283103942871\n"
     ]
    }
   ],
   "source": [
    "start=time.time()\n",
    "model_true = ff.model(freqs, A, alpha, beta, gamma)\n",
    "print(time.time()-start)"
   ]
  },
  {
   "cell_type": "markdown",
   "metadata": {},
   "source": [
    "# Define some data"
   ]
  },
  {
   "cell_type": "code",
   "execution_count": 293,
   "metadata": {},
   "outputs": [],
   "source": [
    "PS_data_1d = ff.PS_data(30e9, A, alpha, beta, gamma)[2:]"
   ]
  },
  {
   "cell_type": "markdown",
   "metadata": {},
   "source": [
    "# 1D attempt to fit using `curve_fit`\n",
    "attempting to fit at 30 GHz for just $A, \\alpha$"
   ]
  },
  {
   "cell_type": "code",
   "execution_count": 85,
   "metadata": {},
   "outputs": [
    {
     "data": {
      "text/plain": [
       "[<matplotlib.lines.Line2D at 0x152014ee48>]"
      ]
     },
     "execution_count": 85,
     "metadata": {},
     "output_type": "execute_result"
    },
    {
     "data": {
      "image/png": "[encoded data removed]",
      "text/plain": [
       "<Figure size 432x288 with 1 Axes>"
      ]
     },
     "metadata": {
      "needs_background": "light"
     },
     "output_type": "display_data"
    }
   ],
   "source": [
    "semilogy(ells,PS_data_1d)"
   ]
  },
  {
   "cell_type": "code",
   "execution_count": 294,
   "metadata": {},
   "outputs": [],
   "source": [
    "%autoreload"
   ]
  },
  {
   "cell_type": "code",
   "execution_count": 301,
   "metadata": {},
   "outputs": [
    {
     "name": "stdout",
     "output_type": "stream",
     "text": [
      "35.60939693450928\n"
     ]
    }
   ],
   "source": [
    "start=time.time()\n",
    "opt_params, covariance = curve_fit(ff.model_single, ells, PS_data_1d, p0=[1e3, -4], \n",
    "                                   bounds=(-np.inf,[np.inf,np.inf]), method='trf')\n",
    "print(time.time()-start)"
   ]
  },
  {
   "cell_type": "code",
   "execution_count": 232,
   "metadata": {},
   "outputs": [],
   "source": [
    "#define a set of initialisation points to step through and print out the best fit parameters extracted from them\n",
    "As = np.linspace(1, 4, 2)*1e9\n",
    "alphas = np.linspace(-4,-1,2)"
   ]
  },
  {
   "cell_type": "code",
   "execution_count": 234,
   "metadata": {},
   "outputs": [
    {
     "name": "stdout",
     "output_type": "stream",
     "text": [
      "Seed (1.00e+09,-4.00) produces (2.45e+09,-0.91)\n",
      "Seed (1.00e+09,-1.00) produces (1.25e+09,-0.33)\n",
      "Seed (4.00e+09,-4.00) produces (4.21e+09,-0.67)\n",
      "Seed (4.00e+09,-1.00) produces (8.19e+09,0.13)\n",
      "158.46907591819763\n"
     ]
    }
   ],
   "source": [
    "start=time.time()\n",
    "for i in range(len(As)):\n",
    "    for j in range(len(alphas)):\n",
    "        opt_params, covariance = curve_fit(ff.model_single, ells, PS_data_1d, p0=[As[i], alphas[j]], \n",
    "                                   bounds=(-np.inf,[np.inf,np.inf]), method='trf')\n",
    "        \n",
    "        print('Seed ({:.2e},{:.2f}) produces ({:.2e},{:.2f})'.format(As[i], alphas[j], opt_params[0], opt_params[1]))\n",
    "        \n",
    "print(time.time()-start)"
   ]
  },
  {
   "cell_type": "code",
   "execution_count": 302,
   "metadata": {},
   "outputs": [
    {
     "name": "stdout",
     "output_type": "stream",
     "text": [
      "[1966.17749728   -2.82779916]\n",
      "[0.60415589 0.00333141]\n"
     ]
    }
   ],
   "source": [
    "print(opt_params)\n",
    "\n",
    "print(np.sqrt(np.diag(covariance)))"
   ]
  },
  {
   "cell_type": "code",
   "execution_count": 250,
   "metadata": {},
   "outputs": [
    {
     "data": {
      "text/plain": [
       "array([703.12549587,  -1.49584047])"
      ]
     },
     "execution_count": 250,
     "metadata": {},
     "output_type": "execute_result"
    }
   ],
   "source": [
    "opt_params"
   ]
  },
  {
   "cell_type": "code",
   "execution_count": 251,
   "metadata": {},
   "outputs": [
    {
     "name": "stdout",
     "output_type": "stream",
     "text": [
      "1700.0 -3.0 -2.5\n"
     ]
    }
   ],
   "source": [
    "print(A, alpha, gamma)"
   ]
  },
  {
   "cell_type": "code",
   "execution_count": 303,
   "metadata": {},
   "outputs": [
    {
     "data": {
      "image/png": "[encoded data removed]",
      "text/plain": [
       "<Figure size 936x504 with 1 Axes>"
      ]
     },
     "metadata": {
      "needs_background": "light"
     },
     "output_type": "display_data"
    }
   ],
   "source": [
    "#over plot the curve that has been extracted\n",
    "figure(figsize=(13,7))\n",
    "semilogy(PS_data_1d, label='data')\n",
    "semilogy(ff.model_single(ells, opt_params[0], opt_params[1]), 'k',label='extracted');\n",
    "semilogy(ff.model_single(ells, A, alpha), label='same function with input params')\n",
    "legend();"
   ]
  },
  {
   "cell_type": "markdown",
   "metadata": {},
   "source": [
    "# there is some effect to cutting out the low ell, but not too much. For the moment just cut [2:]"
   ]
  },
  {
   "cell_type": "code",
   "execution_count": 187,
   "metadata": {},
   "outputs": [],
   "source": [
    "#okay, so this worked up until adding the 0x2 term... Interesting, that's not the one I would have guessed\n",
    "#would break it...\n",
    "#can do curve_fit pretty well with 0x0+1x1 term, but not with 0x0+1x1+0x2...\n",
    "\n",
    "#so with the 0x2 term added to ff.model_single the minimizer doesn't move from starting position much..."
   ]
  },
  {
   "cell_type": "code",
   "execution_count": 185,
   "metadata": {},
   "outputs": [],
   "source": [
    "#so this appears to be working until either\n",
    "# - 0x2 term is included (even if we're just fitting A and alpha this breaks it)\n",
    "# - gamma is included as a parameter (even if we don't include the 0x2 term)"
   ]
  },
  {
   "cell_type": "markdown",
   "metadata": {},
   "source": [
    "# Adding in gamma as a prameter\n",
    "running 0x0+1x1 and fitting $A, \\alpha, \\gamma$ (as the 0x2 breaks it)"
   ]
  },
  {
   "cell_type": "code",
   "execution_count": 254,
   "metadata": {},
   "outputs": [],
   "source": [
    "%autoreload"
   ]
  },
  {
   "cell_type": "code",
   "execution_count": 290,
   "metadata": {},
   "outputs": [
    {
     "name": "stdout",
     "output_type": "stream",
     "text": [
      "24.507060050964355\n"
     ]
    }
   ],
   "source": [
    "start=time.time()\n",
    "opt_params, covariance = curve_fit(ff.model_single, ells, PS_data_1d, p0=[1e3, -1, -3], \n",
    "                                   bounds=(-np.inf,[np.inf,np.inf,-2.01]), method='trf')\n",
    "print(time.time()-start)"
   ]
  },
  {
   "cell_type": "code",
   "execution_count": 282,
   "metadata": {},
   "outputs": [],
   "source": [
    "#all of the below opt_params are from the same initial point and with the same dataset, they vary\n",
    "#quite a lot in where they settle in this space... and most of the time they don't settle well"
   ]
  },
  {
   "cell_type": "code",
   "execution_count": 291,
   "metadata": {},
   "outputs": [
    {
     "data": {
      "text/plain": [
       "array([1187.49741224,   -2.61621563,   -3.0000119 ])"
      ]
     },
     "execution_count": 291,
     "metadata": {},
     "output_type": "execute_result"
    }
   ],
   "source": [
    "opt_params"
   ]
  },
  {
   "cell_type": "code",
   "execution_count": 265,
   "metadata": {},
   "outputs": [
    {
     "data": {
      "text/plain": [
       "array([2187.73417616,   -2.50880966,   -3.11815735])"
      ]
     },
     "execution_count": 265,
     "metadata": {},
     "output_type": "execute_result"
    }
   ],
   "source": [
    "opt_params"
   ]
  },
  {
   "cell_type": "code",
   "execution_count": 263,
   "metadata": {},
   "outputs": [
    {
     "data": {
      "text/plain": [
       "array([750.0384125 ,  -2.17673043,  -3.5439006 ])"
      ]
     },
     "execution_count": 263,
     "metadata": {},
     "output_type": "execute_result"
    }
   ],
   "source": [
    "opt_params"
   ]
  },
  {
   "cell_type": "code",
   "execution_count": 261,
   "metadata": {},
   "outputs": [
    {
     "data": {
      "text/plain": [
       "array([812.49915827,  -1.24347748,  -3.00102684])"
      ]
     },
     "execution_count": 261,
     "metadata": {},
     "output_type": "execute_result"
    }
   ],
   "source": [
    "opt_params"
   ]
  },
  {
   "cell_type": "code",
   "execution_count": 259,
   "metadata": {},
   "outputs": [
    {
     "data": {
      "text/plain": [
       "array([750.95984506,  -3.1426459 ,  -3.50740753])"
      ]
     },
     "execution_count": 259,
     "metadata": {},
     "output_type": "execute_result"
    }
   ],
   "source": [
    "opt_params"
   ]
  },
  {
   "cell_type": "code",
   "execution_count": 256,
   "metadata": {},
   "outputs": [
    {
     "data": {
      "text/plain": [
       "array([978.33122466,  -3.06303811,  -2.13919133])"
      ]
     },
     "execution_count": 256,
     "metadata": {},
     "output_type": "execute_result"
    }
   ],
   "source": [
    "opt_params"
   ]
  },
  {
   "cell_type": "code",
   "execution_count": 292,
   "metadata": {},
   "outputs": [
    {
     "data": {
      "image/png": "[encoded data removed]",
      "text/plain": [
       "<Figure size 936x504 with 1 Axes>"
      ]
     },
     "metadata": {
      "needs_background": "light"
     },
     "output_type": "display_data"
    }
   ],
   "source": [
    "#over plot the curve that has been extracted\n",
    "figure(figsize=(13,7))\n",
    "semilogy( PS_data_1d, label='data')\n",
    "semilogy( ff.model_single(ells, opt_params[0], opt_params[1], opt_params[2]), 'k',label='extracted');\n",
    "semilogy( ff.model_single(ells, A, alpha, gamma), label='same function with input params')\n",
    "legend();"
   ]
  },
  {
   "cell_type": "code",
   "execution_count": null,
   "metadata": {},
   "outputs": [],
   "source": []
  }
 ],
 "metadata": {
  "kernelspec": {
   "display_name": "Python 3",
   "language": "python",
   "name": "python3"
  },
  "language_info": {
   "codemirror_mode": {
    "name": "ipython",
    "version": 3
   },
   "file_extension": ".py",
   "mimetype": "text/x-python",
   "name": "python",
   "nbconvert_exporter": "python",
   "pygments_lexer": "ipython3",
   "version": "3.7.3"
  }
 },
 "nbformat": 4,
 "nbformat_minor": 2
}
