{
 "cells": [
  {
   "cell_type": "markdown",
   "metadata": {},
   "source": [
    "# First attempt at optimising and trying to fit paramters"
   ]
  },
  {
   "cell_type": "code",
   "execution_count": 9,
   "metadata": {},
   "outputs": [
    {
     "name": "stdout",
     "output_type": "stream",
     "text": [
      "The autoreload extension is already loaded. To reload it, use:\n",
      "  %reload_ext autoreload\n",
      "The line_profiler extension is already loaded. To reload it, use:\n",
      "  %reload_ext line_profiler\n"
     ]
    }
   ],
   "source": [
    "%load_ext autoreload\n",
    "# to make modification in .py file type %autoreload\n",
    "\n",
    "%load_ext line_profiler\n",
    "#for finding out how long code takes to run\n",
    "#an example of how to get diagnostics on functions\n",
    "#%lprun -f ff.generate_map_full ff.generate_map_full(384, A_BB, alpha_BB, beta_sigma, freqs, nu0)"
   ]
  },
  {
   "cell_type": "code",
   "execution_count": 2,
   "metadata": {},
   "outputs": [
    {
     "name": "stdout",
     "output_type": "stream",
     "text": [
      "Populating the interactive namespace from numpy and matplotlib\n"
     ]
    }
   ],
   "source": [
    "#trying to consolidate the work so far into a cohesive document and notation. Pushing definitions into \n",
    "#separate .py file\n",
    "\n",
    "#------packages-------------------\n",
    "%pylab inline\n",
    "import time\n",
    "import healpy as hp\n",
    "import matplotlib.pyplot as plt\n",
    "import foreground_functions as ff\n",
    "import foreground_functions_old as ff1\n",
    "import scipy.special as sp #for the zeta function sp.zeta() in the 0x2 term\n",
    "# from scipy.stats import kstest, norm\n",
    "from scipy.optimize import minimize\n",
    "\n",
    "#-------BB parameters (to start)--------\n",
    "A_BB = 1.7e3\n",
    "alpha_BB = -3.0\n",
    "beta_BB = -3.2\n",
    "# beta_sigma = 1.5e-6\n",
    "\n",
    "A_beta = 1e-6\n",
    "gamma_BB = -2.1 #needs to be less than -2 for the 0x2 term to converge\n",
    "nu0 = 95e9\n",
    "\n",
    "crit = 2/np.log(10)\n",
    "sigma_default = crit/3\n",
    "\n",
    "# #-------map paramters--------------------\n",
    "# nside = 128\n",
    "# Lmax = 3*nside\n",
    "# ells = np.arange(0,Lmax)\n",
    "\n",
    "#define list of frequencies going from 10 to 300 GHz, sampling 20 points\n",
    "freqs = np.linspace(30,300,4)*1.e9"
   ]
  },
  {
   "cell_type": "code",
   "execution_count": 3,
   "metadata": {},
   "outputs": [],
   "source": [
    "%autoreload"
   ]
  },
  {
   "cell_type": "code",
   "execution_count": 9,
   "metadata": {},
   "outputs": [],
   "source": [
    "def rosen(x):\n",
    "    return sum(100.0*(x[1:]-x[:-1]**2.0)**2.0 + (1-x[:-1])**2.0)"
   ]
  },
  {
   "cell_type": "code",
   "execution_count": 10,
   "metadata": {},
   "outputs": [],
   "source": [
    "x0 = np.array([1.3, 0.7, 0.8, 1.9, 1.2])"
   ]
  },
  {
   "cell_type": "code",
   "execution_count": 11,
   "metadata": {},
   "outputs": [
    {
     "name": "stdout",
     "output_type": "stream",
     "text": [
      "Optimization terminated successfully.\n",
      "         Current function value: 0.000000\n",
      "         Iterations: 339\n",
      "         Function evaluations: 571\n"
     ]
    }
   ],
   "source": [
    "res = minimize(rosen, x0, method='nelder-mead', options={'xtol': 1e-8, 'disp': True})"
   ]
  },
  {
   "cell_type": "code",
   "execution_count": 12,
   "metadata": {},
   "outputs": [
    {
     "name": "stdout",
     "output_type": "stream",
     "text": [
      "[1. 1. 1. 1. 1.]\n"
     ]
    }
   ],
   "source": [
    "print(res.x)"
   ]
  },
  {
   "cell_type": "code",
   "execution_count": 13,
   "metadata": {},
   "outputs": [],
   "source": [
    "data = hp.anafast(ff.map_full_power(30e9))\n",
    "freq = 30e9"
   ]
  },
  {
   "cell_type": "code",
   "execution_count": 14,
   "metadata": {},
   "outputs": [],
   "source": [
    "def test(param):\n",
    "    return ff.chi2(data, freq, param)"
   ]
  },
  {
   "cell_type": "code",
   "execution_count": 15,
   "metadata": {},
   "outputs": [],
   "source": [
    "x_0 = np.array([-3.0, -3.2, -2.1])"
   ]
  },
  {
   "cell_type": "code",
   "execution_count": 26,
   "metadata": {},
   "outputs": [],
   "source": [
    "x_1 = np.array([-2.4, -3.7, -2.4])"
   ]
  },
  {
   "cell_type": "code",
   "execution_count": 31,
   "metadata": {},
   "outputs": [
    {
     "name": "stdout",
     "output_type": "stream",
     "text": [
      "Warning: Desired error not necessarily achieved due to precision loss.\n",
      "         Current function value: 2694.499474\n",
      "         Iterations: 1\n",
      "         Function evaluations: 101\n",
      "         Gradient evaluations: 18\n",
      "516.5789790153503\n"
     ]
    }
   ],
   "source": [
    "start=time.time()\n",
    "minimum = minimize(test, x_0, options={'disp': True})\n",
    "\n",
    "print(time.time()-start)"
   ]
  },
  {
   "cell_type": "code",
   "execution_count": 27,
   "metadata": {},
   "outputs": [
    {
     "name": "stdout",
     "output_type": "stream",
     "text": [
      "521.1618440151215\n"
     ]
    }
   ],
   "source": [
    "start = time.time()\n",
    "minimum1 = minimize(test, x_1, options={'xtol': 1e-8, 'disp': True})\n",
    "print(time.time()-start)"
   ]
  },
  {
   "cell_type": "code",
   "execution_count": 32,
   "metadata": {},
   "outputs": [
    {
     "name": "stdout",
     "output_type": "stream",
     "text": [
      "[-3.00000019 -3.20000016 -2.1       ]\n"
     ]
    }
   ],
   "source": [
    "print(minimum.x)"
   ]
  },
  {
   "cell_type": "code",
   "execution_count": 28,
   "metadata": {},
   "outputs": [
    {
     "name": "stdout",
     "output_type": "stream",
     "text": [
      "[-2.39998695 -3.69997308 -2.39999714]\n"
     ]
    }
   ],
   "source": [
    "print(minimum1.x)"
   ]
  },
  {
   "cell_type": "code",
   "execution_count": 29,
   "metadata": {},
   "outputs": [],
   "source": [
    "#so seems like this optimizaiton isn't moving anywhere else. check if this is a problem with the function\n",
    "#or if the surfaces are difficult to move about..."
   ]
  },
  {
   "cell_type": "code",
   "execution_count": 12,
   "metadata": {},
   "outputs": [],
   "source": [
    "amp_cls, amp_map = ff.map_amp(alpha=-3.4)\n",
    "bcls, beta_map = ff.map_power_beta(beta=-4.0)"
   ]
  },
  {
   "cell_type": "code",
   "execution_count": 31,
   "metadata": {},
   "outputs": [],
   "source": [
    "%lprun -f ff.get_wigner_sum ff.get_wigner_sum(384, amp_cls, bcls)"
   ]
  },
  {
   "cell_type": "code",
   "execution_count": 55,
   "metadata": {},
   "outputs": [],
   "source": [
    "%autoreload"
   ]
  },
  {
   "cell_type": "code",
   "execution_count": 14,
   "metadata": {},
   "outputs": [
    {
     "name": "stdout",
     "output_type": "stream",
     "text": [
      "3.566870927810669\n"
     ]
    }
   ],
   "source": [
    "#compare the results of wigner 3j before and after fiddling\n",
    "start = time.time()\n",
    "wignersum_new = ff.get_wigner_sum(384, amp_cls, bcls)\n",
    "print(time.time()-start)"
   ]
  },
  {
   "cell_type": "code",
   "execution_count": 15,
   "metadata": {},
   "outputs": [
    {
     "name": "stdout",
     "output_type": "stream",
     "text": [
      "5.203001976013184\n"
     ]
    }
   ],
   "source": [
    "start=time.time()\n",
    "wignersum_old = ff1.get_wigner_sum(384, amp_cls, bcls)\n",
    "print(time.time()-start)"
   ]
  },
  {
   "cell_type": "code",
   "execution_count": 12,
   "metadata": {},
   "outputs": [
    {
     "data": {
      "text/plain": [
       "array([0., 0., 0., 0., 0., 0., 0., 0., 0., 0., 0., 0., 0., 0., 0., 0., 0.,\n",
       "       0., 0., 0., 0., 0., 0., 0., 0., 0., 0., 0., 0., 0., 0., 0., 0., 0.,\n",
       "       0., 0., 0., 0., 0., 0., 0., 0., 0., 0., 0., 0., 0., 0., 0., 0., 0.,\n",
       "       0., 0., 0., 0., 0., 0., 0., 0., 0., 0., 0., 0., 0., 0., 0., 0., 0.,\n",
       "       0., 0., 0., 0., 0., 0., 0., 0., 0., 0., 0., 0., 0., 0., 0., 0., 0.,\n",
       "       0., 0., 0., 0., 0., 0., 0., 0., 0., 0., 0., 0., 0., 0., 0., 0., 0.,\n",
       "       0., 0., 0., 0., 0., 0., 0., 0., 0., 0., 0., 0., 0., 0., 0., 0., 0.,\n",
       "       0., 0., 0., 0., 0., 0., 0., 0., 0., 0., 0., 0., 0., 0., 0., 0., 0.,\n",
       "       0., 0., 0., 0., 0., 0., 0., 0., 0., 0., 0., 0., 0., 0., 0., 0., 0.,\n",
       "       0., 0., 0., 0., 0., 0., 0., 0., 0., 0., 0., 0., 0., 0., 0., 0., 0.,\n",
       "       0., 0., 0., 0., 0., 0., 0., 0., 0., 0., 0., 0., 0., 0., 0., 0., 0.,\n",
       "       0., 0., 0., 0., 0., 0., 0., 0., 0., 0., 0., 0., 0., 0., 0., 0., 0.,\n",
       "       0., 0., 0., 0., 0., 0., 0., 0., 0., 0., 0., 0., 0., 0., 0., 0., 0.,\n",
       "       0., 0., 0., 0., 0., 0., 0., 0., 0., 0., 0., 0., 0., 0., 0., 0., 0.,\n",
       "       0., 0., 0., 0., 0., 0., 0., 0., 0., 0., 0., 0., 0., 0., 0., 0., 0.,\n",
       "       0., 0., 0., 0., 0., 0., 0., 0., 0., 0., 0., 0., 0., 0., 0., 0., 0.,\n",
       "       0., 0., 0., 0., 0., 0., 0., 0., 0., 0., 0., 0., 0., 0., 0., 0., 0.,\n",
       "       0., 0., 0., 0., 0., 0., 0., 0., 0., 0., 0., 0., 0., 0., 0., 0., 0.,\n",
       "       0., 0., 0., 0., 0., 0., 0., 0., 0., 0., 0., 0., 0., 0., 0., 0., 0.,\n",
       "       0., 0., 0., 0., 0., 0., 0., 0., 0., 0., 0., 0., 0., 0., 0., 0., 0.,\n",
       "       0., 0., 0., 0., 0., 0., 0., 0., 0., 0., 0., 0., 0., 0., 0., 0., 0.,\n",
       "       0., 0., 0., 0., 0., 0., 0., 0., 0., 0., 0., 0., 0., 0., 0., 0., 0.,\n",
       "       0., 0., 0., 0., 0., 0., 0., 0., 0., 0.])"
      ]
     },
     "execution_count": 12,
     "metadata": {},
     "output_type": "execute_result"
    }
   ],
   "source": [
    "wignersum_new-wignersum_old"
   ]
  },
  {
   "cell_type": "code",
   "execution_count": 45,
   "metadata": {},
   "outputs": [],
   "source": [
    "#compare between the 1x1 moment\n",
    "mom1x1_new = ff.auto1x1(freqs)\n",
    "mom1x1_old = ff1.auto1x1(freqs)"
   ]
  },
  {
   "cell_type": "code",
   "execution_count": 46,
   "metadata": {},
   "outputs": [],
   "source": [
    "# mom1x1_new-mom1x1_old"
   ]
  },
  {
   "cell_type": "code",
   "execution_count": 47,
   "metadata": {},
   "outputs": [
    {
     "data": {
      "image/png": "[encoded data removed]",
      "text/plain": [
       "<Figure size 432x288 with 1 Axes>"
      ]
     },
     "metadata": {
      "needs_background": "light"
     },
     "output_type": "display_data"
    },
    {
     "data": {
      "image/png": "[encoded data removed]",
      "text/plain": [
       "<Figure size 432x288 with 1 Axes>"
      ]
     },
     "metadata": {
      "needs_background": "light"
     },
     "output_type": "display_data"
    },
    {
     "data": {
      "image/png": "[encoded data removed]",
      "text/plain": [
       "<Figure size 432x288 with 1 Axes>"
      ]
     },
     "metadata": {
      "needs_background": "light"
     },
     "output_type": "display_data"
    },
    {
     "data": {
      "image/png": "[encoded data removed]",
      "text/plain": [
       "<Figure size 432x288 with 1 Axes>"
      ]
     },
     "metadata": {
      "needs_background": "light"
     },
     "output_type": "display_data"
    }
   ],
   "source": [
    "for i in range(len(freqs)):\n",
    "    figure()\n",
    "    semilogy(mom1x1_old[i], 'k');\n",
    "    semilogy(mom1x1_new[i], 'r');"
   ]
  },
  {
   "cell_type": "code",
   "execution_count": 48,
   "metadata": {},
   "outputs": [],
   "source": [
    "%autoreload"
   ]
  },
  {
   "cell_type": "code",
   "execution_count": 65,
   "metadata": {},
   "outputs": [],
   "source": [
    "beta_cls, beta_map = ff.map_power_beta()"
   ]
  },
  {
   "cell_type": "code",
   "execution_count": 50,
   "metadata": {},
   "outputs": [
    {
     "data": {
      "text/plain": [
       "[<matplotlib.lines.Line2D at 0x151d2475c0>]"
      ]
     },
     "execution_count": 50,
     "metadata": {},
     "output_type": "execute_result"
    },
    {
     "data": {
      "image/png": "[encoded data removed]",
      "text/plain": [
       "<Figure size 432x288 with 1 Axes>"
      ]
     },
     "metadata": {
      "needs_background": "light"
     },
     "output_type": "display_data"
    }
   ],
   "source": [
    "semilogy(bcls)\n",
    "semilogy(hp.anafast(beta_map))"
   ]
  },
  {
   "cell_type": "code",
   "execution_count": 51,
   "metadata": {},
   "outputs": [],
   "source": [
    "ells = np.arange(384)"
   ]
  },
  {
   "cell_type": "code",
   "execution_count": 61,
   "metadata": {},
   "outputs": [],
   "source": [
    "gammas = linspace(-4,-2.01,100)\n",
    "std = np.zeros_like(gammas)"
   ]
  },
  {
   "cell_type": "code",
   "execution_count": 64,
   "metadata": {},
   "outputs": [],
   "source": [
    "for i in range(len(gammas)):\n",
    "    bcls = ff.powerlaw(ells, gammas[i])\n",
    "    beta_map = hp.synfast(bcls, nside=ff.nside_default, new=True, verbose=False)\n",
    "    std[i] = np.std(beta_map)"
   ]
  },
  {
   "cell_type": "code",
   "execution_count": 69,
   "metadata": {},
   "outputs": [
    {
     "data": {
      "image/png": "[encoded data removed]",
      "text/plain": [
       "<Figure size 432x288 with 1 Axes>"
      ]
     },
     "metadata": {
      "needs_background": "light"
     },
     "output_type": "display_data"
    }
   ],
   "source": [
    "semilogy(gammas, std)\n",
    "xlabel(r'$\\gamma$')\n",
    "ylabel(r'std of beta map');"
   ]
  },
  {
   "cell_type": "code",
   "execution_count": 65,
   "metadata": {},
   "outputs": [
    {
     "data": {
      "text/plain": [
       "[<matplotlib.lines.Line2D at 0x151c680400>]"
      ]
     },
     "execution_count": 65,
     "metadata": {},
     "output_type": "execute_result"
    },
    {
     "data": {
      "image/png": "[encoded data removed]",
      "text/plain": [
       "<Figure size 432x288 with 1 Axes>"
      ]
     },
     "metadata": {
      "needs_background": "light"
     },
     "output_type": "display_data"
    }
   ],
   "source": [
    "plot(gammas, std)"
   ]
  },
  {
   "cell_type": "code",
   "execution_count": 7,
   "metadata": {},
   "outputs": [
    {
     "name": "stdout",
     "output_type": "stream",
     "text": [
      "0.9683010578155518\n"
     ]
    }
   ],
   "source": [
    "start=time.time()\n",
    "mom1x1 = ff.auto1x1(freqs)\n",
    "end=time.time()\n",
    "print(end-start)"
   ]
  },
  {
   "cell_type": "code",
   "execution_count": 41,
   "metadata": {},
   "outputs": [],
   "source": [
    "%autoreload"
   ]
  },
  {
   "cell_type": "code",
   "execution_count": 20,
   "metadata": {},
   "outputs": [],
   "source": [
    "wigner_sum_old = ff.get_wigner_sum(384, amp_cls, bcls)"
   ]
  },
  {
   "cell_type": "code",
   "execution_count": 16,
   "metadata": {},
   "outputs": [],
   "source": [
    "wigner_sum_very_old = wignersum_old"
   ]
  },
  {
   "cell_type": "code",
   "execution_count": 51,
   "metadata": {},
   "outputs": [],
   "source": [
    "wigner_sum_new = ff.get_wigner_sum()"
   ]
  },
  {
   "cell_type": "code",
   "execution_count": 52,
   "metadata": {},
   "outputs": [
    {
     "data": {
      "text/plain": [
       "array([6.76074666e+06, 2.90674568e+06, 3.15406899e+06, 1.95210689e+06,\n",
       "       2.84796963e+06, 1.98880155e+06, 1.36861498e+06, 9.75847099e+05,\n",
       "       7.22500546e+05, 5.52761656e+05, 4.34686547e+05, 3.49768201e+05,\n",
       "       2.86914599e+05, 2.39229344e+05, 2.02273833e+05, 1.73100702e+05,\n",
       "       1.49697562e+05, 1.30655990e+05, 1.14968339e+05, 1.01899401e+05,\n",
       "       9.09032308e+04, 8.15679577e+04, 7.35783902e+04, 6.66901740e+04,\n",
       "       6.07116232e+04, 5.54907373e+04, 5.09057868e+04, 4.68583932e+04,\n",
       "       4.32683789e+04, 4.00698900e+04, 3.72084454e+04, 3.46386692e+04,\n",
       "       3.23225316e+04, 3.02279723e+04, 2.83278152e+04, 2.65989052e+04,\n",
       "       2.50214176e+04, 2.35783018e+04, 2.22548293e+04, 2.10382264e+04,\n",
       "       1.99173715e+04, 1.88825463e+04, 1.79252292e+04, 1.70379234e+04,\n",
       "       1.62140128e+04, 1.54476413e+04, 1.47336109e+04, 1.40672946e+04,\n",
       "       1.34445637e+04, 1.28617244e+04, 1.23154645e+04, 1.18028070e+04,\n",
       "       1.13210705e+04, 1.08678345e+04, 1.04409099e+04, 1.00383129e+04,\n",
       "       9.65824232e+03, 9.29906010e+03, 8.95927363e+03, 8.63752077e+03,\n",
       "       8.33255639e+03, 8.04324051e+03, 7.76852793e+03, 7.50745889e+03,\n",
       "       7.25915086e+03, 7.02279125e+03, 6.79763085e+03, 6.58297804e+03,\n",
       "       6.37819354e+03, 6.18268575e+03, 5.99590657e+03, 5.81734763e+03,\n",
       "       5.64653686e+03, 5.48303548e+03, 5.32643519e+03, 5.17635571e+03,\n",
       "       5.03244246e+03, 4.89436456e+03, 4.76181292e+03, 4.63449858e+03,\n",
       "       4.51215113e+03, 4.39451732e+03, 4.28135978e+03, 4.17245582e+03,\n",
       "       4.06759638e+03, 3.96658503e+03, 3.86923707e+03, 3.77537871e+03,\n",
       "       3.68484629e+03, 3.59748562e+03, 3.51315127e+03, 3.43170605e+03,\n",
       "       3.35302039e+03, 3.27697190e+03, 3.20344486e+03, 3.13232981e+03,\n",
       "       3.06352313e+03, 2.99692670e+03, 2.93244750e+03, 2.86999738e+03,\n",
       "       2.80949268e+03, 2.75085399e+03, 2.69400591e+03, 2.63887678e+03,\n",
       "       2.58539849e+03, 2.53350623e+03, 2.48313836e+03, 2.43423616e+03,\n",
       "       2.38674371e+03, 2.34060774e+03, 2.29577744e+03, 2.25220435e+03,\n",
       "       2.20984223e+03, 2.16864695e+03, 2.12857633e+03, 2.08959011e+03,\n",
       "       2.05164979e+03, 2.01471855e+03, 1.97876118e+03, 1.94374398e+03,\n",
       "       1.90963470e+03, 1.87640243e+03, 1.84401759e+03, 1.81245181e+03,\n",
       "       1.78167790e+03, 1.75166979e+03, 1.72240245e+03, 1.69385188e+03,\n",
       "       1.66599503e+03, 1.63880977e+03, 1.61227484e+03, 1.58636980e+03,\n",
       "       1.56107503e+03, 1.53637164e+03, 1.51224147e+03, 1.48866705e+03,\n",
       "       1.46563158e+03, 1.44311885e+03, 1.42111330e+03, 1.39959990e+03,\n",
       "       1.37856421e+03, 1.35799227e+03, 1.33787066e+03, 1.31818643e+03,\n",
       "       1.29892708e+03, 1.28008056e+03, 1.26163524e+03, 1.24357989e+03,\n",
       "       1.22590369e+03, 1.20859615e+03, 1.19164719e+03, 1.17504703e+03,\n",
       "       1.15878624e+03, 1.14285570e+03, 1.12724658e+03, 1.11195037e+03,\n",
       "       1.09695882e+03, 1.08226394e+03, 1.06785802e+03, 1.05373359e+03,\n",
       "       1.03988341e+03, 1.02630049e+03, 1.01297804e+03, 9.99909486e+02,\n",
       "       9.87088473e+02, 9.74508831e+02, 9.62164585e+02, 9.50049939e+02,\n",
       "       9.38159278e+02, 9.26487154e+02, 9.15028284e+02, 9.03777541e+02,\n",
       "       8.92729955e+02, 8.81880697e+02, 8.71225085e+02, 8.60758571e+02,\n",
       "       8.50476740e+02, 8.40375304e+02, 8.30450099e+02, 8.20697080e+02,\n",
       "       8.11112315e+02, 8.01691985e+02, 7.92432379e+02, 7.83329887e+02,\n",
       "       7.74381001e+02, 7.65582311e+02, 7.56930497e+02, 7.48422334e+02,\n",
       "       7.40054682e+02, 7.31824488e+02, 7.23728778e+02, 7.15764661e+02,\n",
       "       7.07929320e+02, 7.00220016e+02, 6.92634079e+02, 6.85168911e+02,\n",
       "       6.77821979e+02, 6.70590820e+02, 6.63473032e+02, 6.56466273e+02,\n",
       "       6.49568265e+02, 6.42776785e+02, 6.36089666e+02, 6.29504798e+02,\n",
       "       6.23020121e+02, 6.16633629e+02, 6.10343363e+02, 6.04147415e+02,\n",
       "       5.98043922e+02, 5.92031068e+02, 5.86107080e+02, 5.80270228e+02,\n",
       "       5.74518825e+02, 5.68851223e+02, 5.63265813e+02, 5.57761027e+02,\n",
       "       5.52335330e+02, 5.46987228e+02, 5.41715257e+02, 5.36517990e+02,\n",
       "       5.31394033e+02, 5.26342024e+02, 5.21360633e+02, 5.16448558e+02,\n",
       "       5.11604529e+02, 5.06827304e+02, 5.02115670e+02, 4.97468440e+02,\n",
       "       4.92884454e+02, 4.88362579e+02, 4.83901704e+02, 4.79500748e+02,\n",
       "       4.75158647e+02, 4.70874367e+02, 4.66646891e+02, 4.62475229e+02,\n",
       "       4.58358407e+02, 4.54295477e+02, 4.50285509e+02, 4.46327593e+02,\n",
       "       4.42420838e+02, 4.38564373e+02, 4.34757345e+02, 4.30998918e+02,\n",
       "       4.27288274e+02, 4.23624613e+02, 4.20007151e+02, 4.16435119e+02,\n",
       "       4.12907766e+02, 4.09424354e+02, 4.05984162e+02, 4.02586483e+02,\n",
       "       3.99230624e+02, 3.95915907e+02, 3.92641667e+02, 3.89407251e+02,\n",
       "       3.86212020e+02, 3.83055350e+02, 3.79936626e+02, 3.76855246e+02,\n",
       "       3.73810620e+02, 3.70802171e+02, 3.67829331e+02, 3.64891544e+02,\n",
       "       3.61988265e+02, 3.59118959e+02, 3.56283102e+02, 3.53480178e+02,\n",
       "       3.50709683e+02, 3.47971122e+02, 3.45264009e+02, 3.42587867e+02,\n",
       "       3.39942228e+02, 3.37326634e+02, 3.34740633e+02, 3.32183784e+02,\n",
       "       3.29655652e+02, 3.27155812e+02, 3.24683844e+02, 3.22239339e+02,\n",
       "       3.19821893e+02, 3.17431109e+02, 3.15066600e+02, 3.12727984e+02,\n",
       "       3.10414885e+02, 3.08126935e+02, 3.05863772e+02, 3.03625040e+02,\n",
       "       3.01410392e+02, 2.99219483e+02, 2.97051976e+02, 2.94907540e+02,\n",
       "       2.92785850e+02, 2.90686585e+02, 2.88609431e+02, 2.86554080e+02,\n",
       "       2.84520226e+02, 2.82507572e+02, 2.80515824e+02, 2.78544693e+02,\n",
       "       2.76593894e+02, 2.74663149e+02, 2.72752183e+02, 2.70860726e+02,\n",
       "       2.68988511e+02, 2.67135277e+02, 2.65300767e+02, 2.63484728e+02,\n",
       "       2.61686910e+02, 2.59907068e+02, 2.58144960e+02, 2.56400349e+02,\n",
       "       2.54673000e+02, 2.52962683e+02, 2.51269171e+02, 2.49592238e+02,\n",
       "       2.47931666e+02, 2.46287237e+02, 2.44658735e+02, 2.43045950e+02,\n",
       "       2.41448673e+02, 2.39866698e+02, 2.38299823e+02, 2.36747846e+02,\n",
       "       2.35210570e+02, 2.33687798e+02, 2.32179338e+02, 2.30684997e+02,\n",
       "       2.29204586e+02, 2.27737918e+02, 2.26284806e+02, 2.24845066e+02,\n",
       "       2.23418514e+02, 2.22004968e+02, 2.20604246e+02, 2.19216169e+02,\n",
       "       2.17840555e+02, 2.16477224e+02, 2.15125996e+02, 2.13786689e+02,\n",
       "       2.12459121e+02, 2.11143107e+02, 2.09838463e+02, 2.08544998e+02,\n",
       "       2.07262521e+02, 2.05990834e+02, 2.04729735e+02, 2.03479014e+02,\n",
       "       2.02238454e+02, 2.01007828e+02, 1.99786896e+02, 1.98575405e+02,\n",
       "       1.97373083e+02, 1.96179637e+02, 1.94994750e+02, 1.93818072e+02,\n",
       "       1.92649216e+02, 1.91487746e+02, 1.90333171e+02, 1.89184926e+02,\n",
       "       1.88042357e+02, 1.86904695e+02, 1.85771028e+02, 1.84640258e+02,\n",
       "       1.83511045e+02, 1.82381732e+02, 1.81250239e+02, 1.80113914e+02,\n",
       "       1.78969315e+02, 1.77811898e+02, 1.76635530e+02, 1.75431754e+02,\n",
       "       1.74188593e+02, 1.72888570e+02, 1.71505278e+02, 1.69997111e+02,\n",
       "       1.68295079e+02, 1.66277268e+02, 1.63709796e+02, 1.60091771e+02,\n",
       "       1.54169683e+02, 1.41962163e+02, 1.04304910e+02, 9.64401107e+01])"
      ]
     },
     "execution_count": 52,
     "metadata": {},
     "output_type": "execute_result"
    }
   ],
   "source": [
    "wigner_sum_old - wigner_sum_new"
   ]
  },
  {
   "cell_type": "code",
   "execution_count": 23,
   "metadata": {},
   "outputs": [],
   "source": [
    "big_w3j = np.load('w3j.npy')"
   ]
  },
  {
   "cell_type": "code",
   "execution_count": 24,
   "metadata": {},
   "outputs": [
    {
     "data": {
      "text/plain": [
       "(384, 384, 384)"
      ]
     },
     "execution_count": 24,
     "metadata": {},
     "output_type": "execute_result"
    }
   ],
   "source": [
    "big_w3j.shape"
   ]
  },
  {
   "cell_type": "code",
   "execution_count": 45,
   "metadata": {},
   "outputs": [],
   "source": [
    "pcls, amp_map = ff.map_amp()"
   ]
  },
  {
   "cell_type": "code",
   "execution_count": 63,
   "metadata": {},
   "outputs": [],
   "source": [
    "%autoreload\n",
    "wigner_sum_new = ff.get_wigner_sum()"
   ]
  },
  {
   "cell_type": "code",
   "execution_count": 64,
   "metadata": {},
   "outputs": [
    {
     "data": {
      "text/plain": [
       "array([6.58285271e+06, 2.82331933e+06, 3.06677270e+06, 1.89498759e+06,\n",
       "       2.76981646e+06, 1.93130595e+06, 1.32735724e+06, 9.45483146e+05,\n",
       "       6.99470750e+05, 5.34810752e+05, 4.20362283e+05, 3.38107746e+05,\n",
       "       2.77260087e+05, 2.31118544e+05, 1.95373731e+05, 1.67165979e+05,\n",
       "       1.44543900e+05, 1.26142456e+05, 1.10985477e+05, 9.83610042e+04,\n",
       "       8.77405418e+04, 7.87255131e+04, 7.10109848e+04, 6.43606166e+04,\n",
       "       5.85890521e+04, 5.35493406e+04, 4.91238192e+04, 4.52174121e+04,\n",
       "       4.17526458e+04, 3.86658964e+04, 3.59045346e+04, 3.34247320e+04,\n",
       "       3.11897598e+04, 2.91686577e+04, 2.73351843e+04, 2.56669827e+04,\n",
       "       2.41449132e+04, 2.27525155e+04, 2.14755720e+04, 2.03017527e+04,\n",
       "       1.92203230e+04, 1.82219031e+04, 1.72982688e+04, 1.64421851e+04,\n",
       "       1.56472673e+04, 1.49078643e+04, 1.42189600e+04, 1.35760899e+04,\n",
       "       1.29752701e+04, 1.24129364e+04, 1.18858931e+04, 1.13912678e+04,\n",
       "       1.09264735e+04, 1.04891748e+04, 1.00772597e+04, 9.68881437e+03,\n",
       "       9.32210105e+03, 8.97553935e+03, 8.64768934e+03, 8.33723693e+03,\n",
       "       8.04298089e+03, 7.76382150e+03, 7.49875042e+03, 7.24684178e+03,\n",
       "       7.00724420e+03, 6.77917378e+03, 6.56190777e+03, 6.35477896e+03,\n",
       "       6.15717066e+03, 5.96851215e+03, 5.78827470e+03, 5.61596788e+03,\n",
       "       5.45113631e+03, 5.29335670e+03, 5.14223518e+03, 4.99740487e+03,\n",
       "       4.85852374e+03, 4.72527258e+03, 4.59735322e+03, 4.47448691e+03,\n",
       "       4.35641278e+03, 4.24288651e+03, 4.13367913e+03, 4.02857579e+03,\n",
       "       3.92737482e+03, 3.82988672e+03, 3.73593330e+03, 3.64534692e+03,\n",
       "       3.55796968e+03, 3.47365282e+03, 3.39225606e+03, 3.31364702e+03,\n",
       "       3.23770072e+03, 3.16429909e+03, 3.09333047e+03, 3.02468926e+03,\n",
       "       2.95827550e+03, 2.89399451e+03, 2.83175658e+03, 2.77147663e+03,\n",
       "       2.71307397e+03, 2.65647197e+03, 2.60159789e+03, 2.54838260e+03,\n",
       "       2.49676037e+03, 2.44666868e+03, 2.39804805e+03, 2.35084184e+03,\n",
       "       2.30499610e+03, 2.26045941e+03, 2.21718276e+03, 2.17511939e+03,\n",
       "       2.13422469e+03, 2.09445607e+03, 2.05577285e+03, 2.01813616e+03,\n",
       "       1.98150887e+03, 1.94585545e+03, 1.91114192e+03, 1.87733576e+03,\n",
       "       1.84440586e+03, 1.81232240e+03, 1.78105682e+03, 1.75058176e+03,\n",
       "       1.72087098e+03, 1.69189931e+03, 1.66364262e+03, 1.63607773e+03,\n",
       "       1.60918241e+03, 1.58293531e+03, 1.55731590e+03, 1.53230447e+03,\n",
       "       1.50788207e+03, 1.48403049e+03, 1.46073220e+03, 1.43797034e+03,\n",
       "       1.41572868e+03, 1.39399161e+03, 1.37274408e+03, 1.35197162e+03,\n",
       "       1.33166026e+03, 1.31179656e+03, 1.29236756e+03, 1.27336074e+03,\n",
       "       1.25476406e+03, 1.23656589e+03, 1.21875500e+03, 1.20132055e+03,\n",
       "       1.18425210e+03, 1.16753954e+03, 1.15117312e+03, 1.13514341e+03,\n",
       "       1.11944131e+03, 1.10405801e+03, 1.08898500e+03, 1.07421407e+03,\n",
       "       1.05973724e+03, 1.04554681e+03, 1.03163534e+03, 1.01799562e+03,\n",
       "       1.00462065e+03, 9.91503699e+02, 9.78638204e+02, 9.66017830e+02,\n",
       "       9.53636433e+02, 9.41488062e+02, 9.29566949e+02, 9.17867501e+02,\n",
       "       9.06384297e+02, 8.95112079e+02, 8.84045748e+02, 8.73180356e+02,\n",
       "       8.62511103e+02, 8.52033332e+02, 8.41742521e+02, 8.31634281e+02,\n",
       "       8.21704349e+02, 8.11948588e+02, 8.02362978e+02, 7.92943614e+02,\n",
       "       7.83686701e+02, 7.74588554e+02, 7.65645587e+02, 7.56854319e+02,\n",
       "       7.48211362e+02, 7.39713424e+02, 7.31357303e+02, 7.23139883e+02,\n",
       "       7.15058133e+02, 7.07109107e+02, 6.99289934e+02, 6.91597823e+02,\n",
       "       6.84030056e+02, 6.76583986e+02, 6.69257038e+02, 6.62046702e+02,\n",
       "       6.54950536e+02, 6.47966160e+02, 6.41091254e+02, 6.34323560e+02,\n",
       "       6.27660877e+02, 6.21101060e+02, 6.14642016e+02, 6.08281709e+02,\n",
       "       6.02018150e+02, 5.95849401e+02, 5.89773574e+02, 5.83788824e+02,\n",
       "       5.77893354e+02, 5.72085410e+02, 5.66363281e+02, 5.60725297e+02,\n",
       "       5.55169828e+02, 5.49695284e+02, 5.44300112e+02, 5.38982797e+02,\n",
       "       5.33741859e+02, 5.28575852e+02, 5.23483367e+02, 5.18463024e+02,\n",
       "       5.13513477e+02, 5.08633412e+02, 5.03821542e+02, 4.99076615e+02,\n",
       "       4.94397401e+02, 4.89782702e+02, 4.85231347e+02, 4.80742191e+02,\n",
       "       4.76314112e+02, 4.71946016e+02, 4.67636834e+02, 4.63385517e+02,\n",
       "       4.59191043e+02, 4.55052409e+02, 4.50968636e+02, 4.46938766e+02,\n",
       "       4.42961862e+02, 4.39037006e+02, 4.35163300e+02, 4.31339866e+02,\n",
       "       4.27565844e+02, 4.23840393e+02, 4.20162689e+02, 4.16531925e+02,\n",
       "       4.12947311e+02, 4.09408076e+02, 4.05913460e+02, 4.02462723e+02,\n",
       "       3.99055139e+02, 3.95689996e+02, 3.92366598e+02, 3.89084261e+02,\n",
       "       3.85842317e+02, 3.82640111e+02, 3.79477000e+02, 3.76352356e+02,\n",
       "       3.73265561e+02, 3.70216010e+02, 3.67203112e+02, 3.64226285e+02,\n",
       "       3.61284960e+02, 3.58378578e+02, 3.55506592e+02, 3.52668466e+02,\n",
       "       3.49863671e+02, 3.47091693e+02, 3.44352024e+02, 3.41644168e+02,\n",
       "       3.38967637e+02, 3.36321954e+02, 3.33706648e+02, 3.31121260e+02,\n",
       "       3.28565338e+02, 3.26038439e+02, 3.23540128e+02, 3.21069978e+02,\n",
       "       3.18627569e+02, 3.16212490e+02, 3.13824338e+02, 3.11462716e+02,\n",
       "       3.09127235e+02, 3.06817512e+02, 3.04533171e+02, 3.02273845e+02,\n",
       "       3.00039172e+02, 2.97828794e+02, 2.95642365e+02, 2.93479539e+02,\n",
       "       2.91339981e+02, 2.89223358e+02, 2.87129346e+02, 2.85057625e+02,\n",
       "       2.83007880e+02, 2.80979803e+02, 2.78973090e+02, 2.76987442e+02,\n",
       "       2.75022568e+02, 2.73078177e+02, 2.71153987e+02, 2.69249720e+02,\n",
       "       2.67365100e+02, 2.65499859e+02, 2.63653731e+02, 2.61826456e+02,\n",
       "       2.60017777e+02, 2.58227442e+02, 2.56455202e+02, 2.54700814e+02,\n",
       "       2.52964036e+02, 2.51244633e+02, 2.49542371e+02, 2.47857021e+02,\n",
       "       2.46188357e+02, 2.44536157e+02, 2.42900202e+02, 2.41280276e+02,\n",
       "       2.39676166e+02, 2.38087663e+02, 2.36514561e+02, 2.34956655e+02,\n",
       "       2.33413746e+02, 2.31885634e+02, 2.30372125e+02, 2.28873025e+02,\n",
       "       2.27388144e+02, 2.25917293e+02, 2.24460287e+02, 2.23016942e+02,\n",
       "       2.21587075e+02, 2.20170506e+02, 2.18767056e+02, 2.17376550e+02,\n",
       "       2.15998809e+02, 2.14633662e+02, 2.13280932e+02, 2.11940448e+02,\n",
       "       2.10612037e+02, 2.09295527e+02, 2.07990745e+02, 2.06697519e+02,\n",
       "       2.05415675e+02, 2.04145037e+02, 2.02885430e+02, 2.01636673e+02,\n",
       "       2.00398583e+02, 1.99170976e+02, 1.97953658e+02, 1.96746433e+02,\n",
       "       1.95549095e+02, 1.94361431e+02, 1.93183215e+02, 1.92014208e+02,\n",
       "       1.90854158e+02, 1.89702789e+02, 1.88559803e+02, 1.87424875e+02,\n",
       "       1.86297641e+02, 1.85177696e+02, 1.84064580e+02, 1.82957766e+02,\n",
       "       1.81856642e+02, 1.80760491e+02, 1.79668458e+02, 1.78579514e+02,\n",
       "       1.77492405e+02, 1.76405574e+02, 1.75317066e+02, 1.74224382e+02,\n",
       "       1.73124277e+02, 1.72012454e+02, 1.70883108e+02, 1.69728211e+02,\n",
       "       1.68536374e+02, 1.67290941e+02, 1.65966689e+02, 1.64523778e+02,\n",
       "       1.62895991e+02, 1.60966006e+02, 1.58508148e+02, 1.55037704e+02,\n",
       "       1.49337890e+02, 1.37530695e+02, 1.00874929e+02, 9.32759704e+01])"
      ]
     },
     "execution_count": 64,
     "metadata": {},
     "output_type": "execute_result"
    }
   ],
   "source": [
    "wigner_sum_very_old - wigner_sum_new"
   ]
  },
  {
   "cell_type": "code",
   "execution_count": 54,
   "metadata": {},
   "outputs": [
    {
     "data": {
      "text/plain": [
       "(384, 384)"
      ]
     },
     "execution_count": 54,
     "metadata": {},
     "output_type": "execute_result"
    }
   ],
   "source": [
    "big_w3j[1,:,:].shape"
   ]
  },
  {
   "cell_type": "code",
   "execution_count": 68,
   "metadata": {},
   "outputs": [],
   "source": [
    "beta_cls, beta_map = ff.map_power_beta()\n",
    "np.save('beta_cls', beta_cls)"
   ]
  },
  {
   "cell_type": "code",
   "execution_count": 69,
   "metadata": {},
   "outputs": [],
   "source": [
    "true_bcls = np.load('beta_cls.npy')"
   ]
  },
  {
   "cell_type": "code",
   "execution_count": 70,
   "metadata": {},
   "outputs": [],
   "source": [
    "##try again using the same beta_cls\n",
    "%autoreload\n",
    "very_old = ff1.get_wigner_sum(384, amp_cls, true_bcls)\n",
    "new = ff.get_wigner_sum()"
   ]
  },
  {
   "cell_type": "code",
   "execution_count": 72,
   "metadata": {},
   "outputs": [
    {
     "data": {
      "text/plain": [
       "array([5.49252814e+06, 2.33424703e+06, 2.54552510e+06, 1.56334508e+06,\n",
       "       2.30111727e+06, 1.59546812e+06, 1.09130196e+06, 7.74404714e+05,\n",
       "       5.71202745e+05, 4.35707824e+05, 3.41821084e+05, 2.74516766e+05,\n",
       "       2.24834961e+05, 1.87228541e+05, 1.58140267e+05, 1.35215446e+05,\n",
       "       1.16850767e+05, 1.01926823e+05, 8.96444563e+04, 7.94216892e+04,\n",
       "       7.08270945e+04, 6.35356940e+04, 5.72991317e+04, 5.19251061e+04,\n",
       "       4.72629332e+04, 4.31932461e+04, 3.96205377e+04, 3.64676863e+04,\n",
       "       3.36718860e+04, 3.11815868e+04, 2.89541685e+04, 2.69541541e+04,\n",
       "       2.51518261e+04, 2.35221437e+04, 2.20438904e+04, 2.06989964e+04,\n",
       "       1.94719965e+04, 1.83495943e+04, 1.73203078e+04, 1.63741819e+04,\n",
       "       1.55025512e+04, 1.46978456e+04, 1.39534288e+04, 1.32634636e+04,\n",
       "       1.26227998e+04, 1.20268794e+04, 1.14716571e+04, 1.09535331e+04,\n",
       "       1.04692950e+04, 1.00160697e+04, 9.59128091e+03, 9.19261344e+03,\n",
       "       8.81798206e+03, 8.46550475e+03, 8.13347944e+03, 7.82036383e+03,\n",
       "       7.52475772e+03, 7.24538768e+03, 6.98109354e+03, 6.73081653e+03,\n",
       "       6.49358888e+03, 6.26852460e+03, 6.05481135e+03, 5.85170326e+03,\n",
       "       5.65851446e+03, 5.47461347e+03, 5.29941806e+03, 5.13239078e+03,\n",
       "       4.97303484e+03, 4.82089051e+03, 4.67553188e+03, 4.53656389e+03,\n",
       "       4.40361971e+03, 4.27635838e+03, 4.15446260e+03, 4.03763687e+03,\n",
       "       3.92560564e+03, 3.81811179e+03, 3.71491512e+03, 3.61579106e+03,\n",
       "       3.52052948e+03, 3.42893357e+03, 3.34081885e+03, 3.25601225e+03,\n",
       "       3.17435129e+03, 3.09568332e+03, 3.01986477e+03, 2.94676058e+03,\n",
       "       2.87624354e+03, 2.80819380e+03, 2.74249832e+03, 2.67905047e+03,\n",
       "       2.61774952e+03, 2.55850034e+03, 2.50121297e+03, 2.44580231e+03,\n",
       "       2.39218782e+03, 2.34029321e+03, 2.29004617e+03, 2.24137815e+03,\n",
       "       2.19422411e+03, 2.14852232e+03, 2.10421414e+03, 2.06124386e+03,\n",
       "       2.01955851e+03, 1.97910770e+03, 1.93984348e+03, 1.90172021e+03,\n",
       "       1.86469439e+03, 1.82872459e+03, 1.79377130e+03, 1.75979682e+03,\n",
       "       1.72676519e+03, 1.69464208e+03, 1.66339470e+03, 1.63299172e+03,\n",
       "       1.60340318e+03, 1.57460046e+03, 1.54655616e+03, 1.51924406e+03,\n",
       "       1.49263906e+03, 1.46671714e+03, 1.44145526e+03, 1.41683136e+03,\n",
       "       1.39282428e+03, 1.36941373e+03, 1.34658025e+03, 1.32430514e+03,\n",
       "       1.30257048e+03, 1.28135904e+03, 1.26065428e+03, 1.24044030e+03,\n",
       "       1.22070181e+03, 1.20142413e+03, 1.18259310e+03, 1.16419515e+03,\n",
       "       1.14621717e+03, 1.12864658e+03, 1.11147124e+03, 1.09467947e+03,\n",
       "       1.07826000e+03, 1.06220199e+03, 1.04649498e+03, 1.03112889e+03,\n",
       "       1.01609399e+03, 1.00138089e+03, 9.86980537e+02, 9.72884198e+02,\n",
       "       9.59083431e+02, 9.45570088e+02, 9.32336297e+02, 9.19374456e+02,\n",
       "       9.06677214e+02, 8.94237470e+02, 8.82048356e+02, 8.70103231e+02,\n",
       "       8.58395673e+02, 8.46919468e+02, 8.35668601e+02, 8.24637255e+02,\n",
       "       8.13819794e+02, 8.03210766e+02, 7.92804885e+02, 7.82597035e+02,\n",
       "       7.72582259e+02, 7.62755752e+02, 7.53112858e+02, 7.43649063e+02,\n",
       "       7.34359991e+02, 7.25241397e+02, 7.16289165e+02, 7.07499301e+02,\n",
       "       6.98867930e+02, 6.90391292e+02, 6.82065735e+02, 6.73887718e+02,\n",
       "       6.65853798e+02, 6.57960636e+02, 6.50204983e+02, 6.42583690e+02,\n",
       "       6.35093690e+02, 6.27732009e+02, 6.20495751e+02, 6.13382105e+02,\n",
       "       6.06388336e+02, 5.99511785e+02, 5.92749866e+02, 5.86100063e+02,\n",
       "       5.79559928e+02, 5.73127083e+02, 5.66799208e+02, 5.60574049e+02,\n",
       "       5.54449412e+02, 5.48423158e+02, 5.42493208e+02, 5.36657535e+02,\n",
       "       5.30914166e+02, 5.25261178e+02, 5.19696698e+02, 5.14218903e+02,\n",
       "       5.08826013e+02, 5.03516297e+02, 4.98288064e+02, 4.93139668e+02,\n",
       "       4.88069504e+02, 4.83076007e+02, 4.78157649e+02, 4.73312942e+02,\n",
       "       4.68540433e+02, 4.63838705e+02, 4.59206376e+02, 4.54642097e+02,\n",
       "       4.50144551e+02, 4.45712453e+02, 4.41344549e+02, 4.37039614e+02,\n",
       "       4.32796452e+02, 4.28613897e+02, 4.24490807e+02, 4.20426069e+02,\n",
       "       4.16418596e+02, 4.12467325e+02, 4.08571216e+02, 4.04729258e+02,\n",
       "       4.00940456e+02, 3.97203844e+02, 3.93518474e+02, 3.89883420e+02,\n",
       "       3.86297777e+02, 3.82760661e+02, 3.79271205e+02, 3.75828566e+02,\n",
       "       3.72431914e+02, 3.69080441e+02, 3.65773355e+02, 3.62509881e+02,\n",
       "       3.59289262e+02, 3.56110757e+02, 3.52973639e+02, 3.49877199e+02,\n",
       "       3.46820742e+02, 3.43803588e+02, 3.40825070e+02, 3.37884538e+02,\n",
       "       3.34981353e+02, 3.32114889e+02, 3.29284535e+02, 3.26489692e+02,\n",
       "       3.23729772e+02, 3.21004201e+02, 3.18312415e+02, 3.15653862e+02,\n",
       "       3.13028003e+02, 3.10434306e+02, 3.07872253e+02, 3.05341336e+02,\n",
       "       3.02841056e+02, 3.00370924e+02, 2.97930461e+02, 2.95519197e+02,\n",
       "       2.93136673e+02, 2.90782437e+02, 2.88456045e+02, 2.86157066e+02,\n",
       "       2.83885071e+02, 2.81639646e+02, 2.79420379e+02, 2.77226869e+02,\n",
       "       2.75058723e+02, 2.72915554e+02, 2.70796982e+02, 2.68702636e+02,\n",
       "       2.66632151e+02, 2.64585168e+02, 2.62561336e+02, 2.60560310e+02,\n",
       "       2.58581751e+02, 2.56625326e+02, 2.54690710e+02, 2.52777581e+02,\n",
       "       2.50885626e+02, 2.49014535e+02, 2.47164005e+02, 2.45333739e+02,\n",
       "       2.43523443e+02, 2.41732830e+02, 2.39961619e+02, 2.38209532e+02,\n",
       "       2.36476297e+02, 2.34761646e+02, 2.33065317e+02, 2.31387051e+02,\n",
       "       2.29726595e+02, 2.28083700e+02, 2.26458119e+02, 2.24849614e+02,\n",
       "       2.23257946e+02, 2.21682884e+02, 2.20124198e+02, 2.18581664e+02,\n",
       "       2.17055060e+02, 2.15544170e+02, 2.14048780e+02, 2.12568679e+02,\n",
       "       2.11103661e+02, 2.09653523e+02, 2.08218064e+02, 2.06797088e+02,\n",
       "       2.05390401e+02, 2.03997814e+02, 2.02619137e+02, 2.01254189e+02,\n",
       "       1.99902786e+02, 1.98564750e+02, 1.97239905e+02, 1.95928079e+02,\n",
       "       1.94629100e+02, 1.93342801e+02, 1.92069016e+02, 1.90807583e+02,\n",
       "       1.89558340e+02, 1.88321130e+02, 1.87095796e+02, 1.85882185e+02,\n",
       "       1.84680145e+02, 1.83489526e+02, 1.82310179e+02, 1.81141960e+02,\n",
       "       1.79984724e+02, 1.78838329e+02, 1.77702633e+02, 1.76577497e+02,\n",
       "       1.75462782e+02, 1.74358353e+02, 1.73264073e+02, 1.72179808e+02,\n",
       "       1.71105423e+02, 1.70040785e+02, 1.68985760e+02, 1.67940217e+02,\n",
       "       1.66904021e+02, 1.65877040e+02, 1.64859139e+02, 1.63850183e+02,\n",
       "       1.62850034e+02, 1.61858555e+02, 1.60875602e+02, 1.59901029e+02,\n",
       "       1.58934687e+02, 1.57976419e+02, 1.57026063e+02, 1.56083447e+02,\n",
       "       1.55148388e+02, 1.54220691e+02, 1.53300145e+02, 1.52386520e+02,\n",
       "       1.51479559e+02, 1.50578977e+02, 1.49684451e+02, 1.48795610e+02,\n",
       "       1.47912023e+02, 1.47033183e+02, 1.46158486e+02, 1.45287199e+02,\n",
       "       1.44418424e+02, 1.43551041e+02, 1.42683635e+02, 1.41814382e+02,\n",
       "       1.40940895e+02, 1.40059991e+02, 1.39167331e+02, 1.38256864e+02,\n",
       "       1.37319929e+02, 1.36343742e+02, 1.35308764e+02, 1.34183836e+02,\n",
       "       1.32916659e+02, 1.31413627e+02, 1.29492777e+02, 1.26758950e+02,\n",
       "       1.22208455e+02, 1.12601268e+02, 8.20496429e+01, 7.58912347e+01])"
      ]
     },
     "execution_count": 72,
     "metadata": {},
     "output_type": "execute_result"
    }
   ],
   "source": [
    "very_old-new"
   ]
  },
  {
   "cell_type": "code",
   "execution_count": 88,
   "metadata": {},
   "outputs": [],
   "source": [
    "%autoreload\n",
    "mom0x0 = ff.auto0x0(freqs)\n",
    "mom1x1 = ff.auto1x1(freqs)\n",
    "mom0x2 = ff.auto0x2(freqs)"
   ]
  },
  {
   "cell_type": "code",
   "execution_count": 82,
   "metadata": {},
   "outputs": [
    {
     "data": {
      "text/plain": [
       "[<matplotlib.lines.Line2D at 0x153dfe4ac8>]"
      ]
     },
     "execution_count": 82,
     "metadata": {},
     "output_type": "execute_result"
    },
    {
     "data": {
      "image/png": "[encoded data removed]",
      "text/plain": [
       "<Figure size 432x288 with 1 Axes>"
      ]
     },
     "metadata": {
      "needs_background": "light"
     },
     "output_type": "display_data"
    }
   ],
   "source": [
    "semilogy(mom0x0[0])\n",
    "semilogy(mom1x1[0])\n",
    "semilogy(mom0x0[0]+mom1x1[0])\n",
    "semilogy(mom0x0[0]+mom1x1[0]+mom0x2[0])\n",
    "# semilogy(mom0x2[0])"
   ]
  },
  {
   "cell_type": "code",
   "execution_count": 89,
   "metadata": {},
   "outputs": [],
   "source": [
    "default_map = ff.map_full_power(freqs)"
   ]
  },
  {
   "cell_type": "code",
   "execution_count": 90,
   "metadata": {},
   "outputs": [],
   "source": [
    "anafast = hp.anafast(default_map[0])"
   ]
  },
  {
   "cell_type": "code",
   "execution_count": 91,
   "metadata": {},
   "outputs": [
    {
     "data": {
      "text/plain": [
       "[<matplotlib.lines.Line2D at 0x153e255be0>]"
      ]
     },
     "execution_count": 91,
     "metadata": {},
     "output_type": "execute_result"
    },
    {
     "data": {
      "image/png": "[encoded data removed]",
      "text/plain": [
       "<Figure size 936x504 with 1 Axes>"
      ]
     },
     "metadata": {
      "needs_background": "light"
     },
     "output_type": "display_data"
    }
   ],
   "source": [
    "figure(figsize=(13,7))\n",
    "semilogy(anafast)\n",
    "semilogy(mom0x0[0])\n",
    "semilogy(mom1x1[0])\n",
    "# semilogy(mom0x0[0]+mom1x1[0])\n",
    "semilogy(mom0x0[0]+mom1x1[0]+mom0x2[0])\n",
    "\n",
    "# semilogy(mom0x2[0])"
   ]
  },
  {
   "cell_type": "code",
   "execution_count": null,
   "metadata": {},
   "outputs": [],
   "source": []
  }
 ],
 "metadata": {
  "kernelspec": {
   "display_name": "Python 3",
   "language": "python",
   "name": "python3"
  },
  "language_info": {
   "codemirror_mode": {
    "name": "ipython",
    "version": 3
   },
   "file_extension": ".py",
   "mimetype": "text/x-python",
   "name": "python",
   "nbconvert_exporter": "python",
   "pygments_lexer": "ipython3",
   "version": "3.7.3"
  }
 },
 "nbformat": 4,
 "nbformat_minor": 2
}
