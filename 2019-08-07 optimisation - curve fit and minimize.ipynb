{
 "cells": [
  {
   "cell_type": "code",
   "execution_count": 1,
   "metadata": {},
   "outputs": [],
   "source": [
    "%load_ext autoreload\n",
    "# to make modification in .py file type %autoreload\n",
    "\n",
    "%load_ext line_profiler\n",
    "#for finding out how long code takes to run\n",
    "#an example of how to get diagnostics on functions\n",
    "#%lprun -f ff.generate_map_full ff.generate_map_full(384, A_BB, alpha_BB, beta_sigma, freqs, nu0)"
   ]
  },
  {
   "cell_type": "code",
   "execution_count": 2,
   "metadata": {},
   "outputs": [
    {
     "name": "stdout",
     "output_type": "stream",
     "text": [
      "Populating the interactive namespace from numpy and matplotlib\n"
     ]
    }
   ],
   "source": [
    "#trying to consolidate the work so far into a cohesive document and notation. Pushing definitions into \n",
    "#separate .py file\n",
    "\n",
    "#------packages-------------------\n",
    "%pylab inline\n",
    "import time\n",
    "import healpy as hp\n",
    "import matplotlib.pyplot as plt\n",
    "import foreground_functions as ff\n",
    "from scipy.optimize import curve_fit, minimize\n",
    "# import scipy.special as sp #for the zeta function sp.zeta() in the 0x2 term\n",
    "# from scipy.stats import kstest, norm\n",
    "\n",
    "\n"
   ]
  },
  {
   "cell_type": "code",
   "execution_count": 7,
   "metadata": {},
   "outputs": [],
   "source": [
    "%autoreload"
   ]
  },
  {
   "cell_type": "code",
   "execution_count": 16,
   "metadata": {},
   "outputs": [],
   "source": [
    "nside = 128\n",
    "amp = 1.7e3\n",
    "alpha = -3.0\n",
    "beta = -3.2\n",
    "gamma = -2.5\n",
    "ells = np.arange(3*nside)\n",
    "freqs = np.linspace(30, 300, 5)*1.e9"
   ]
  },
  {
   "cell_type": "code",
   "execution_count": 9,
   "metadata": {},
   "outputs": [
    {
     "name": "stdout",
     "output_type": "stream",
     "text": [
      "0.903285026550293\n"
     ]
    }
   ],
   "source": [
    "start=time.time()\n",
    "data = ff.PS_data(freqs, amp, alpha, beta, gamma)\n",
    "print(time.time()-start)"
   ]
  },
  {
   "cell_type": "code",
   "execution_count": 10,
   "metadata": {},
   "outputs": [
    {
     "name": "stdout",
     "output_type": "stream",
     "text": [
      "1.5038988590240479\n"
     ]
    }
   ],
   "source": [
    "start=time.time()\n",
    "model = ff.model(freqs, amp, alpha, beta, gamma)\n",
    "print(time.time()-start)"
   ]
  },
  {
   "cell_type": "code",
   "execution_count": 11,
   "metadata": {},
   "outputs": [],
   "source": [
    "def residuals(params, freqs, data):\n",
    "    amp, alpha, beta, gamma = params\n",
    "    model = ff.model(freqs, amp, alpha, beta, gamma)\n",
    "    return np.sum((data - model)**2)"
   ]
  },
  {
   "cell_type": "code",
   "execution_count": 13,
   "metadata": {},
   "outputs": [],
   "source": [
    "power_spectrum_data = ff.PS_data(freqs, amp, alpha, beta, gamma)"
   ]
  },
  {
   "cell_type": "code",
   "execution_count": 14,
   "metadata": {},
   "outputs": [
    {
     "name": "stdout",
     "output_type": "stream",
     "text": [
      "248.33515810966492\n"
     ]
    }
   ],
   "source": [
    "start=time.time()\n",
    "result = minimize(residuals, [1e3, -1, -1, -3], args=(freqs, power_spectrum_data))\n",
    "print(time.time()-start)"
   ]
  },
  {
   "cell_type": "code",
   "execution_count": 15,
   "metadata": {},
   "outputs": [
    {
     "data": {
      "text/plain": [
       "      fun: 1.5267276922955047e+22\n",
       " hess_inv: array([[ 0.24948683, -0.42043258,  0.00458741, -0.10815745],\n",
       "       [-0.42043258,  0.71476821, -0.08113559,  0.15267571],\n",
       "       [ 0.00458741, -0.08113559,  0.86087951,  0.34500435],\n",
       "       [-0.10815745,  0.15267571,  0.34500435,  0.18676394]])\n",
       "      jac: array([-4.34990880e+22, -9.73478416e+22, -9.59740820e+22,  9.52870545e+22])\n",
       "  message: 'Desired error not necessarily achieved due to precision loss.'\n",
       "     nfev: 137\n",
       "      nit: 2\n",
       "     njev: 21\n",
       "   status: 2\n",
       "  success: False\n",
       "        x: array([ 1.00000001e+03, -9.99995910e-01, -1.00000608e+00, -2.99997896e+00])"
      ]
     },
     "execution_count": 15,
     "metadata": {},
     "output_type": "execute_result"
    }
   ],
   "source": [
    "result"
   ]
  },
  {
   "cell_type": "code",
   "execution_count": 29,
   "metadata": {},
   "outputs": [],
   "source": [
    "%autoreload"
   ]
  },
  {
   "cell_type": "code",
   "execution_count": 33,
   "metadata": {},
   "outputs": [],
   "source": [
    "model_single = ff.model_single(ells, amp, alpha, beta, gamma)"
   ]
  },
  {
   "cell_type": "code",
   "execution_count": 24,
   "metadata": {},
   "outputs": [
    {
     "data": {
      "text/plain": [
       "(384,)"
      ]
     },
     "execution_count": 24,
     "metadata": {},
     "output_type": "execute_result"
    }
   ],
   "source": [
    "model_single.shape"
   ]
  },
  {
   "cell_type": "code",
   "execution_count": 34,
   "metadata": {},
   "outputs": [],
   "source": [
    "data_single = ff.PS_data(30e9, amp, alpha, beta, gamma)"
   ]
  },
  {
   "cell_type": "code",
   "execution_count": 41,
   "metadata": {},
   "outputs": [
    {
     "name": "stdout",
     "output_type": "stream",
     "text": [
      "54.64692401885986\n"
     ]
    }
   ],
   "source": [
    "start=time.time()\n",
    "opt_params, covariance = curve_fit(ff.model_single, ells, data_single, p0=[1e3, -1, -1, -3], bounds=(-np.inf,[np.inf,np.inf,np.inf,-2.001]))\n",
    "print(time.time()-start)"
   ]
  },
  {
   "cell_type": "code",
   "execution_count": 51,
   "metadata": {},
   "outputs": [
    {
     "data": {
      "text/plain": [
       "1187.5039597167556"
      ]
     },
     "execution_count": 51,
     "metadata": {},
     "output_type": "execute_result"
    }
   ],
   "source": [
    "opt_params[0]"
   ]
  },
  {
   "cell_type": "code",
   "execution_count": 45,
   "metadata": {},
   "outputs": [
    {
     "data": {
      "text/plain": [
       "array([[ 3.86010008e+18, -1.32255306e+14,  4.25954468e+14,\n",
       "         9.16390121e+15],\n",
       "       [-1.32255306e+14,  7.16636023e+09, -1.49650306e+10,\n",
       "        -3.18164467e+11],\n",
       "       [ 4.25954468e+14, -1.49650306e+10,  4.70554517e+10,\n",
       "         1.01180826e+12],\n",
       "       [ 9.16390121e+15, -3.18164467e+11,  1.01180826e+12,\n",
       "         2.17618188e+13]])"
      ]
     },
     "execution_count": 45,
     "metadata": {},
     "output_type": "execute_result"
    }
   ],
   "source": [
    "covariance"
   ]
  },
  {
   "cell_type": "code",
   "execution_count": 46,
   "metadata": {},
   "outputs": [
    {
     "data": {
      "text/plain": [
       "array([1.96471374e+09, 8.46543574e+04, 2.16922686e+05, 4.66495646e+06])"
      ]
     },
     "execution_count": 46,
     "metadata": {},
     "output_type": "execute_result"
    }
   ],
   "source": [
    "np.sqrt(np.diag(covariance))"
   ]
  },
  {
   "cell_type": "code",
   "execution_count": 60,
   "metadata": {},
   "outputs": [
    {
     "data": {
      "text/plain": [
       "<matplotlib.legend.Legend at 0x151a1a0828>"
      ]
     },
     "execution_count": 60,
     "metadata": {},
     "output_type": "execute_result"
    },
    {
     "data": {
      "image/png": "[encoded data removed]",
      "text/plain": [
       "<Figure size 936x504 with 1 Axes>"
      ]
     },
     "metadata": {
      "needs_background": "light"
     },
     "output_type": "display_data"
    }
   ],
   "source": [
    "figure(figsize(13,7))\n",
    "semilogy(data_single)\n",
    "semilogy(model_single, label='input model')\n",
    "semilogy(ff.model_single(ells, 1e3, -1, -1, -3), label='initialising seed')\n",
    "semilogy(ff.model_single(ells, opt_params[0], opt_params[1], opt_params[2], opt_params[3]), label='extracted model')\n",
    "legend()"
   ]
  },
  {
   "cell_type": "code",
   "execution_count": null,
   "metadata": {},
   "outputs": [],
   "source": []
  }
 ],
 "metadata": {
  "kernelspec": {
   "display_name": "Python 3",
   "language": "python",
   "name": "python3"
  },
  "language_info": {
   "codemirror_mode": {
    "name": "ipython",
    "version": 3
   },
   "file_extension": ".py",
   "mimetype": "text/x-python",
   "name": "python",
   "nbconvert_exporter": "python",
   "pygments_lexer": "ipython3",
   "version": "3.7.3"
  }
 },
 "nbformat": 4,
 "nbformat_minor": 2
}
